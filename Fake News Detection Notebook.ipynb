{
 "cells": [
  {
   "cell_type": "markdown",
   "id": "fe167a45",
   "metadata": {},
   "source": [
    "### Importing Data and Packages"
   ]
  },
  {
   "cell_type": "code",
   "execution_count": 1,
   "id": "604a8d3f",
   "metadata": {},
   "outputs": [],
   "source": [
    "# imports\n",
    "import numpy as np\n",
    "import pandas as pd \n",
    "import nltk\n",
    "import warnings\n",
    "warnings.filterwarnings('ignore')"
   ]
  },
  {
   "cell_type": "code",
   "execution_count": 2,
   "id": "aea65819",
   "metadata": {},
   "outputs": [
    {
     "data": {
      "text/html": [
       "<div>\n",
       "<style scoped>\n",
       "    .dataframe tbody tr th:only-of-type {\n",
       "        vertical-align: middle;\n",
       "    }\n",
       "\n",
       "    .dataframe tbody tr th {\n",
       "        vertical-align: top;\n",
       "    }\n",
       "\n",
       "    .dataframe thead th {\n",
       "        text-align: right;\n",
       "    }\n",
       "</style>\n",
       "<table border=\"1\" class=\"dataframe\">\n",
       "  <thead>\n",
       "    <tr style=\"text-align: right;\">\n",
       "      <th></th>\n",
       "      <th>title</th>\n",
       "      <th>text</th>\n",
       "      <th>subject</th>\n",
       "      <th>date</th>\n",
       "    </tr>\n",
       "  </thead>\n",
       "  <tbody>\n",
       "    <tr>\n",
       "      <th>0</th>\n",
       "      <td>Donald Trump Sends Out Embarrassing New Year’...</td>\n",
       "      <td>Donald Trump just couldn t wish all Americans ...</td>\n",
       "      <td>News</td>\n",
       "      <td>December 31, 2017</td>\n",
       "    </tr>\n",
       "    <tr>\n",
       "      <th>1</th>\n",
       "      <td>Drunk Bragging Trump Staffer Started Russian ...</td>\n",
       "      <td>House Intelligence Committee Chairman Devin Nu...</td>\n",
       "      <td>News</td>\n",
       "      <td>December 31, 2017</td>\n",
       "    </tr>\n",
       "    <tr>\n",
       "      <th>2</th>\n",
       "      <td>Sheriff David Clarke Becomes An Internet Joke...</td>\n",
       "      <td>On Friday, it was revealed that former Milwauk...</td>\n",
       "      <td>News</td>\n",
       "      <td>December 30, 2017</td>\n",
       "    </tr>\n",
       "    <tr>\n",
       "      <th>3</th>\n",
       "      <td>Trump Is So Obsessed He Even Has Obama’s Name...</td>\n",
       "      <td>On Christmas day, Donald Trump announced that ...</td>\n",
       "      <td>News</td>\n",
       "      <td>December 29, 2017</td>\n",
       "    </tr>\n",
       "    <tr>\n",
       "      <th>4</th>\n",
       "      <td>Pope Francis Just Called Out Donald Trump Dur...</td>\n",
       "      <td>Pope Francis used his annual Christmas Day mes...</td>\n",
       "      <td>News</td>\n",
       "      <td>December 25, 2017</td>\n",
       "    </tr>\n",
       "    <tr>\n",
       "      <th>...</th>\n",
       "      <td>...</td>\n",
       "      <td>...</td>\n",
       "      <td>...</td>\n",
       "      <td>...</td>\n",
       "    </tr>\n",
       "    <tr>\n",
       "      <th>23476</th>\n",
       "      <td>McPain: John McCain Furious That Iran Treated ...</td>\n",
       "      <td>21st Century Wire says As 21WIRE reported earl...</td>\n",
       "      <td>Middle-east</td>\n",
       "      <td>January 16, 2016</td>\n",
       "    </tr>\n",
       "    <tr>\n",
       "      <th>23477</th>\n",
       "      <td>JUSTICE? Yahoo Settles E-mail Privacy Class-ac...</td>\n",
       "      <td>21st Century Wire says It s a familiar theme. ...</td>\n",
       "      <td>Middle-east</td>\n",
       "      <td>January 16, 2016</td>\n",
       "    </tr>\n",
       "    <tr>\n",
       "      <th>23478</th>\n",
       "      <td>Sunnistan: US and Allied ‘Safe Zone’ Plan to T...</td>\n",
       "      <td>Patrick Henningsen  21st Century WireRemember ...</td>\n",
       "      <td>Middle-east</td>\n",
       "      <td>January 15, 2016</td>\n",
       "    </tr>\n",
       "    <tr>\n",
       "      <th>23479</th>\n",
       "      <td>How to Blow $700 Million: Al Jazeera America F...</td>\n",
       "      <td>21st Century Wire says Al Jazeera America will...</td>\n",
       "      <td>Middle-east</td>\n",
       "      <td>January 14, 2016</td>\n",
       "    </tr>\n",
       "    <tr>\n",
       "      <th>23480</th>\n",
       "      <td>10 U.S. Navy Sailors Held by Iranian Military ...</td>\n",
       "      <td>21st Century Wire says As 21WIRE predicted in ...</td>\n",
       "      <td>Middle-east</td>\n",
       "      <td>January 12, 2016</td>\n",
       "    </tr>\n",
       "  </tbody>\n",
       "</table>\n",
       "<p>23481 rows × 4 columns</p>\n",
       "</div>"
      ],
      "text/plain": [
       "                                                   title  \\\n",
       "0       Donald Trump Sends Out Embarrassing New Year’...   \n",
       "1       Drunk Bragging Trump Staffer Started Russian ...   \n",
       "2       Sheriff David Clarke Becomes An Internet Joke...   \n",
       "3       Trump Is So Obsessed He Even Has Obama’s Name...   \n",
       "4       Pope Francis Just Called Out Donald Trump Dur...   \n",
       "...                                                  ...   \n",
       "23476  McPain: John McCain Furious That Iran Treated ...   \n",
       "23477  JUSTICE? Yahoo Settles E-mail Privacy Class-ac...   \n",
       "23478  Sunnistan: US and Allied ‘Safe Zone’ Plan to T...   \n",
       "23479  How to Blow $700 Million: Al Jazeera America F...   \n",
       "23480  10 U.S. Navy Sailors Held by Iranian Military ...   \n",
       "\n",
       "                                                    text      subject  \\\n",
       "0      Donald Trump just couldn t wish all Americans ...         News   \n",
       "1      House Intelligence Committee Chairman Devin Nu...         News   \n",
       "2      On Friday, it was revealed that former Milwauk...         News   \n",
       "3      On Christmas day, Donald Trump announced that ...         News   \n",
       "4      Pope Francis used his annual Christmas Day mes...         News   \n",
       "...                                                  ...          ...   \n",
       "23476  21st Century Wire says As 21WIRE reported earl...  Middle-east   \n",
       "23477  21st Century Wire says It s a familiar theme. ...  Middle-east   \n",
       "23478  Patrick Henningsen  21st Century WireRemember ...  Middle-east   \n",
       "23479  21st Century Wire says Al Jazeera America will...  Middle-east   \n",
       "23480  21st Century Wire says As 21WIRE predicted in ...  Middle-east   \n",
       "\n",
       "                    date  \n",
       "0      December 31, 2017  \n",
       "1      December 31, 2017  \n",
       "2      December 30, 2017  \n",
       "3      December 29, 2017  \n",
       "4      December 25, 2017  \n",
       "...                  ...  \n",
       "23476   January 16, 2016  \n",
       "23477   January 16, 2016  \n",
       "23478   January 15, 2016  \n",
       "23479   January 14, 2016  \n",
       "23480   January 12, 2016  \n",
       "\n",
       "[23481 rows x 4 columns]"
      ]
     },
     "execution_count": 2,
     "metadata": {},
     "output_type": "execute_result"
    }
   ],
   "source": [
    "# importing fake news data \n",
    "fake_data = pd.read_csv(\"./Fake.csv\")\n",
    "fake_data"
   ]
  },
  {
   "cell_type": "code",
   "execution_count": 3,
   "id": "e9b25b13",
   "metadata": {},
   "outputs": [
    {
     "data": {
      "text/html": [
       "<div>\n",
       "<style scoped>\n",
       "    .dataframe tbody tr th:only-of-type {\n",
       "        vertical-align: middle;\n",
       "    }\n",
       "\n",
       "    .dataframe tbody tr th {\n",
       "        vertical-align: top;\n",
       "    }\n",
       "\n",
       "    .dataframe thead th {\n",
       "        text-align: right;\n",
       "    }\n",
       "</style>\n",
       "<table border=\"1\" class=\"dataframe\">\n",
       "  <thead>\n",
       "    <tr style=\"text-align: right;\">\n",
       "      <th></th>\n",
       "      <th>title</th>\n",
       "      <th>text</th>\n",
       "      <th>subject</th>\n",
       "      <th>date</th>\n",
       "    </tr>\n",
       "  </thead>\n",
       "  <tbody>\n",
       "    <tr>\n",
       "      <th>0</th>\n",
       "      <td>As U.S. budget fight looms, Republicans flip t...</td>\n",
       "      <td>WASHINGTON (Reuters) - The head of a conservat...</td>\n",
       "      <td>politicsNews</td>\n",
       "      <td>December 31, 2017</td>\n",
       "    </tr>\n",
       "    <tr>\n",
       "      <th>1</th>\n",
       "      <td>U.S. military to accept transgender recruits o...</td>\n",
       "      <td>WASHINGTON (Reuters) - Transgender people will...</td>\n",
       "      <td>politicsNews</td>\n",
       "      <td>December 29, 2017</td>\n",
       "    </tr>\n",
       "    <tr>\n",
       "      <th>2</th>\n",
       "      <td>Senior U.S. Republican senator: 'Let Mr. Muell...</td>\n",
       "      <td>WASHINGTON (Reuters) - The special counsel inv...</td>\n",
       "      <td>politicsNews</td>\n",
       "      <td>December 31, 2017</td>\n",
       "    </tr>\n",
       "    <tr>\n",
       "      <th>3</th>\n",
       "      <td>FBI Russia probe helped by Australian diplomat...</td>\n",
       "      <td>WASHINGTON (Reuters) - Trump campaign adviser ...</td>\n",
       "      <td>politicsNews</td>\n",
       "      <td>December 30, 2017</td>\n",
       "    </tr>\n",
       "    <tr>\n",
       "      <th>4</th>\n",
       "      <td>Trump wants Postal Service to charge 'much mor...</td>\n",
       "      <td>SEATTLE/WASHINGTON (Reuters) - President Donal...</td>\n",
       "      <td>politicsNews</td>\n",
       "      <td>December 29, 2017</td>\n",
       "    </tr>\n",
       "    <tr>\n",
       "      <th>...</th>\n",
       "      <td>...</td>\n",
       "      <td>...</td>\n",
       "      <td>...</td>\n",
       "      <td>...</td>\n",
       "    </tr>\n",
       "    <tr>\n",
       "      <th>21412</th>\n",
       "      <td>'Fully committed' NATO backs new U.S. approach...</td>\n",
       "      <td>BRUSSELS (Reuters) - NATO allies on Tuesday we...</td>\n",
       "      <td>worldnews</td>\n",
       "      <td>August 22, 2017</td>\n",
       "    </tr>\n",
       "    <tr>\n",
       "      <th>21413</th>\n",
       "      <td>LexisNexis withdrew two products from Chinese ...</td>\n",
       "      <td>LONDON (Reuters) - LexisNexis, a provider of l...</td>\n",
       "      <td>worldnews</td>\n",
       "      <td>August 22, 2017</td>\n",
       "    </tr>\n",
       "    <tr>\n",
       "      <th>21414</th>\n",
       "      <td>Minsk cultural hub becomes haven from authorities</td>\n",
       "      <td>MINSK (Reuters) - In the shadow of disused Sov...</td>\n",
       "      <td>worldnews</td>\n",
       "      <td>August 22, 2017</td>\n",
       "    </tr>\n",
       "    <tr>\n",
       "      <th>21415</th>\n",
       "      <td>Vatican upbeat on possibility of Pope Francis ...</td>\n",
       "      <td>MOSCOW (Reuters) - Vatican Secretary of State ...</td>\n",
       "      <td>worldnews</td>\n",
       "      <td>August 22, 2017</td>\n",
       "    </tr>\n",
       "    <tr>\n",
       "      <th>21416</th>\n",
       "      <td>Indonesia to buy $1.14 billion worth of Russia...</td>\n",
       "      <td>JAKARTA (Reuters) - Indonesia will buy 11 Sukh...</td>\n",
       "      <td>worldnews</td>\n",
       "      <td>August 22, 2017</td>\n",
       "    </tr>\n",
       "  </tbody>\n",
       "</table>\n",
       "<p>21417 rows × 4 columns</p>\n",
       "</div>"
      ],
      "text/plain": [
       "                                                   title  \\\n",
       "0      As U.S. budget fight looms, Republicans flip t...   \n",
       "1      U.S. military to accept transgender recruits o...   \n",
       "2      Senior U.S. Republican senator: 'Let Mr. Muell...   \n",
       "3      FBI Russia probe helped by Australian diplomat...   \n",
       "4      Trump wants Postal Service to charge 'much mor...   \n",
       "...                                                  ...   \n",
       "21412  'Fully committed' NATO backs new U.S. approach...   \n",
       "21413  LexisNexis withdrew two products from Chinese ...   \n",
       "21414  Minsk cultural hub becomes haven from authorities   \n",
       "21415  Vatican upbeat on possibility of Pope Francis ...   \n",
       "21416  Indonesia to buy $1.14 billion worth of Russia...   \n",
       "\n",
       "                                                    text       subject  \\\n",
       "0      WASHINGTON (Reuters) - The head of a conservat...  politicsNews   \n",
       "1      WASHINGTON (Reuters) - Transgender people will...  politicsNews   \n",
       "2      WASHINGTON (Reuters) - The special counsel inv...  politicsNews   \n",
       "3      WASHINGTON (Reuters) - Trump campaign adviser ...  politicsNews   \n",
       "4      SEATTLE/WASHINGTON (Reuters) - President Donal...  politicsNews   \n",
       "...                                                  ...           ...   \n",
       "21412  BRUSSELS (Reuters) - NATO allies on Tuesday we...     worldnews   \n",
       "21413  LONDON (Reuters) - LexisNexis, a provider of l...     worldnews   \n",
       "21414  MINSK (Reuters) - In the shadow of disused Sov...     worldnews   \n",
       "21415  MOSCOW (Reuters) - Vatican Secretary of State ...     worldnews   \n",
       "21416  JAKARTA (Reuters) - Indonesia will buy 11 Sukh...     worldnews   \n",
       "\n",
       "                     date  \n",
       "0      December 31, 2017   \n",
       "1      December 29, 2017   \n",
       "2      December 31, 2017   \n",
       "3      December 30, 2017   \n",
       "4      December 29, 2017   \n",
       "...                   ...  \n",
       "21412    August 22, 2017   \n",
       "21413    August 22, 2017   \n",
       "21414    August 22, 2017   \n",
       "21415    August 22, 2017   \n",
       "21416    August 22, 2017   \n",
       "\n",
       "[21417 rows x 4 columns]"
      ]
     },
     "execution_count": 3,
     "metadata": {},
     "output_type": "execute_result"
    }
   ],
   "source": [
    "# importig real news data\n",
    "true_data = pd.read_csv(\"./True.csv\")\n",
    "true_data"
   ]
  },
  {
   "cell_type": "code",
   "execution_count": 4,
   "id": "0d9d61a4",
   "metadata": {},
   "outputs": [
    {
     "data": {
      "text/html": [
       "<div>\n",
       "<style scoped>\n",
       "    .dataframe tbody tr th:only-of-type {\n",
       "        vertical-align: middle;\n",
       "    }\n",
       "\n",
       "    .dataframe tbody tr th {\n",
       "        vertical-align: top;\n",
       "    }\n",
       "\n",
       "    .dataframe thead th {\n",
       "        text-align: right;\n",
       "    }\n",
       "</style>\n",
       "<table border=\"1\" class=\"dataframe\">\n",
       "  <thead>\n",
       "    <tr style=\"text-align: right;\">\n",
       "      <th></th>\n",
       "      <th>title</th>\n",
       "      <th>text</th>\n",
       "      <th>subject</th>\n",
       "      <th>date</th>\n",
       "      <th>Fake</th>\n",
       "    </tr>\n",
       "  </thead>\n",
       "  <tbody>\n",
       "    <tr>\n",
       "      <th>0</th>\n",
       "      <td>As U.S. budget fight looms, Republicans flip t...</td>\n",
       "      <td>WASHINGTON (Reuters) - The head of a conservat...</td>\n",
       "      <td>politicsNews</td>\n",
       "      <td>December 31, 2017</td>\n",
       "      <td>0</td>\n",
       "    </tr>\n",
       "    <tr>\n",
       "      <th>1</th>\n",
       "      <td>U.S. military to accept transgender recruits o...</td>\n",
       "      <td>WASHINGTON (Reuters) - Transgender people will...</td>\n",
       "      <td>politicsNews</td>\n",
       "      <td>December 29, 2017</td>\n",
       "      <td>0</td>\n",
       "    </tr>\n",
       "    <tr>\n",
       "      <th>2</th>\n",
       "      <td>Senior U.S. Republican senator: 'Let Mr. Muell...</td>\n",
       "      <td>WASHINGTON (Reuters) - The special counsel inv...</td>\n",
       "      <td>politicsNews</td>\n",
       "      <td>December 31, 2017</td>\n",
       "      <td>0</td>\n",
       "    </tr>\n",
       "    <tr>\n",
       "      <th>3</th>\n",
       "      <td>FBI Russia probe helped by Australian diplomat...</td>\n",
       "      <td>WASHINGTON (Reuters) - Trump campaign adviser ...</td>\n",
       "      <td>politicsNews</td>\n",
       "      <td>December 30, 2017</td>\n",
       "      <td>0</td>\n",
       "    </tr>\n",
       "    <tr>\n",
       "      <th>4</th>\n",
       "      <td>Trump wants Postal Service to charge 'much mor...</td>\n",
       "      <td>SEATTLE/WASHINGTON (Reuters) - President Donal...</td>\n",
       "      <td>politicsNews</td>\n",
       "      <td>December 29, 2017</td>\n",
       "      <td>0</td>\n",
       "    </tr>\n",
       "    <tr>\n",
       "      <th>...</th>\n",
       "      <td>...</td>\n",
       "      <td>...</td>\n",
       "      <td>...</td>\n",
       "      <td>...</td>\n",
       "      <td>...</td>\n",
       "    </tr>\n",
       "    <tr>\n",
       "      <th>44893</th>\n",
       "      <td>McPain: John McCain Furious That Iran Treated ...</td>\n",
       "      <td>21st Century Wire says As 21WIRE reported earl...</td>\n",
       "      <td>Middle-east</td>\n",
       "      <td>January 16, 2016</td>\n",
       "      <td>1</td>\n",
       "    </tr>\n",
       "    <tr>\n",
       "      <th>44894</th>\n",
       "      <td>JUSTICE? Yahoo Settles E-mail Privacy Class-ac...</td>\n",
       "      <td>21st Century Wire says It s a familiar theme. ...</td>\n",
       "      <td>Middle-east</td>\n",
       "      <td>January 16, 2016</td>\n",
       "      <td>1</td>\n",
       "    </tr>\n",
       "    <tr>\n",
       "      <th>44895</th>\n",
       "      <td>Sunnistan: US and Allied ‘Safe Zone’ Plan to T...</td>\n",
       "      <td>Patrick Henningsen  21st Century WireRemember ...</td>\n",
       "      <td>Middle-east</td>\n",
       "      <td>January 15, 2016</td>\n",
       "      <td>1</td>\n",
       "    </tr>\n",
       "    <tr>\n",
       "      <th>44896</th>\n",
       "      <td>How to Blow $700 Million: Al Jazeera America F...</td>\n",
       "      <td>21st Century Wire says Al Jazeera America will...</td>\n",
       "      <td>Middle-east</td>\n",
       "      <td>January 14, 2016</td>\n",
       "      <td>1</td>\n",
       "    </tr>\n",
       "    <tr>\n",
       "      <th>44897</th>\n",
       "      <td>10 U.S. Navy Sailors Held by Iranian Military ...</td>\n",
       "      <td>21st Century Wire says As 21WIRE predicted in ...</td>\n",
       "      <td>Middle-east</td>\n",
       "      <td>January 12, 2016</td>\n",
       "      <td>1</td>\n",
       "    </tr>\n",
       "  </tbody>\n",
       "</table>\n",
       "<p>44898 rows × 5 columns</p>\n",
       "</div>"
      ],
      "text/plain": [
       "                                                   title  \\\n",
       "0      As U.S. budget fight looms, Republicans flip t...   \n",
       "1      U.S. military to accept transgender recruits o...   \n",
       "2      Senior U.S. Republican senator: 'Let Mr. Muell...   \n",
       "3      FBI Russia probe helped by Australian diplomat...   \n",
       "4      Trump wants Postal Service to charge 'much mor...   \n",
       "...                                                  ...   \n",
       "44893  McPain: John McCain Furious That Iran Treated ...   \n",
       "44894  JUSTICE? Yahoo Settles E-mail Privacy Class-ac...   \n",
       "44895  Sunnistan: US and Allied ‘Safe Zone’ Plan to T...   \n",
       "44896  How to Blow $700 Million: Al Jazeera America F...   \n",
       "44897  10 U.S. Navy Sailors Held by Iranian Military ...   \n",
       "\n",
       "                                                    text       subject  \\\n",
       "0      WASHINGTON (Reuters) - The head of a conservat...  politicsNews   \n",
       "1      WASHINGTON (Reuters) - Transgender people will...  politicsNews   \n",
       "2      WASHINGTON (Reuters) - The special counsel inv...  politicsNews   \n",
       "3      WASHINGTON (Reuters) - Trump campaign adviser ...  politicsNews   \n",
       "4      SEATTLE/WASHINGTON (Reuters) - President Donal...  politicsNews   \n",
       "...                                                  ...           ...   \n",
       "44893  21st Century Wire says As 21WIRE reported earl...   Middle-east   \n",
       "44894  21st Century Wire says It s a familiar theme. ...   Middle-east   \n",
       "44895  Patrick Henningsen  21st Century WireRemember ...   Middle-east   \n",
       "44896  21st Century Wire says Al Jazeera America will...   Middle-east   \n",
       "44897  21st Century Wire says As 21WIRE predicted in ...   Middle-east   \n",
       "\n",
       "                     date  Fake  \n",
       "0      December 31, 2017      0  \n",
       "1      December 29, 2017      0  \n",
       "2      December 31, 2017      0  \n",
       "3      December 30, 2017      0  \n",
       "4      December 29, 2017      0  \n",
       "...                   ...   ...  \n",
       "44893    January 16, 2016     1  \n",
       "44894    January 16, 2016     1  \n",
       "44895    January 15, 2016     1  \n",
       "44896    January 14, 2016     1  \n",
       "44897    January 12, 2016     1  \n",
       "\n",
       "[44898 rows x 5 columns]"
      ]
     },
     "execution_count": 4,
     "metadata": {},
     "output_type": "execute_result"
    }
   ],
   "source": [
    "# labeling real news (0) and fake news (1) \n",
    "fake_data[\"Fake\"] = 1 \n",
    "true_data[\"Fake\"] = 0 \n",
    "\n",
    "# merging the two data sets\n",
    "data = pd.concat([true_data, fake_data])\n",
    "\n",
    "# resetting index of the data frame\n",
    "data.reset_index(inplace=True)\n",
    "\n",
    "# removing index column of the frame\n",
    "data = data[list(data.columns)[1:]]\n",
    "\n",
    "# displaying data \n",
    "data"
   ]
  },
  {
   "cell_type": "markdown",
   "id": "547110d5",
   "metadata": {},
   "source": [
    "### Sentiment Analysis on the Titles / Body Text"
   ]
  },
  {
   "cell_type": "code",
   "execution_count": 5,
   "id": "73b4394b",
   "metadata": {
    "scrolled": true
   },
   "outputs": [
    {
     "data": {
      "text/html": [
       "<div>\n",
       "<style scoped>\n",
       "    .dataframe tbody tr th:only-of-type {\n",
       "        vertical-align: middle;\n",
       "    }\n",
       "\n",
       "    .dataframe tbody tr th {\n",
       "        vertical-align: top;\n",
       "    }\n",
       "\n",
       "    .dataframe thead th {\n",
       "        text-align: right;\n",
       "    }\n",
       "</style>\n",
       "<table border=\"1\" class=\"dataframe\">\n",
       "  <thead>\n",
       "    <tr style=\"text-align: right;\">\n",
       "      <th></th>\n",
       "      <th>title</th>\n",
       "      <th>text</th>\n",
       "      <th>subject</th>\n",
       "      <th>date</th>\n",
       "      <th>Fake</th>\n",
       "      <th>title sa neg</th>\n",
       "      <th>title sa pos</th>\n",
       "      <th>title sa neu</th>\n",
       "      <th>title sa comp</th>\n",
       "    </tr>\n",
       "  </thead>\n",
       "  <tbody>\n",
       "    <tr>\n",
       "      <th>0</th>\n",
       "      <td>As U.S. budget fight looms, Republicans flip t...</td>\n",
       "      <td>WASHINGTON (Reuters) - The head of a conservat...</td>\n",
       "      <td>politicsNews</td>\n",
       "      <td>December 31, 2017</td>\n",
       "      <td>0</td>\n",
       "      <td>0.344</td>\n",
       "      <td>0.000</td>\n",
       "      <td>0.656</td>\n",
       "      <td>-0.4939</td>\n",
       "    </tr>\n",
       "    <tr>\n",
       "      <th>1</th>\n",
       "      <td>U.S. military to accept transgender recruits o...</td>\n",
       "      <td>WASHINGTON (Reuters) - Transgender people will...</td>\n",
       "      <td>politicsNews</td>\n",
       "      <td>December 29, 2017</td>\n",
       "      <td>0</td>\n",
       "      <td>0.000</td>\n",
       "      <td>0.245</td>\n",
       "      <td>0.755</td>\n",
       "      <td>0.3818</td>\n",
       "    </tr>\n",
       "    <tr>\n",
       "      <th>2</th>\n",
       "      <td>Senior U.S. Republican senator: 'Let Mr. Muell...</td>\n",
       "      <td>WASHINGTON (Reuters) - The special counsel inv...</td>\n",
       "      <td>politicsNews</td>\n",
       "      <td>December 31, 2017</td>\n",
       "      <td>0</td>\n",
       "      <td>0.000</td>\n",
       "      <td>0.000</td>\n",
       "      <td>1.000</td>\n",
       "      <td>0.0000</td>\n",
       "    </tr>\n",
       "    <tr>\n",
       "      <th>3</th>\n",
       "      <td>FBI Russia probe helped by Australian diplomat...</td>\n",
       "      <td>WASHINGTON (Reuters) - Trump campaign adviser ...</td>\n",
       "      <td>politicsNews</td>\n",
       "      <td>December 30, 2017</td>\n",
       "      <td>0</td>\n",
       "      <td>0.000</td>\n",
       "      <td>0.000</td>\n",
       "      <td>1.000</td>\n",
       "      <td>0.0000</td>\n",
       "    </tr>\n",
       "    <tr>\n",
       "      <th>4</th>\n",
       "      <td>Trump wants Postal Service to charge 'much mor...</td>\n",
       "      <td>SEATTLE/WASHINGTON (Reuters) - President Donal...</td>\n",
       "      <td>politicsNews</td>\n",
       "      <td>December 29, 2017</td>\n",
       "      <td>0</td>\n",
       "      <td>0.000</td>\n",
       "      <td>0.165</td>\n",
       "      <td>0.835</td>\n",
       "      <td>0.2449</td>\n",
       "    </tr>\n",
       "    <tr>\n",
       "      <th>...</th>\n",
       "      <td>...</td>\n",
       "      <td>...</td>\n",
       "      <td>...</td>\n",
       "      <td>...</td>\n",
       "      <td>...</td>\n",
       "      <td>...</td>\n",
       "      <td>...</td>\n",
       "      <td>...</td>\n",
       "      <td>...</td>\n",
       "    </tr>\n",
       "    <tr>\n",
       "      <th>44893</th>\n",
       "      <td>McPain: John McCain Furious That Iran Treated ...</td>\n",
       "      <td>21st Century Wire says As 21WIRE reported earl...</td>\n",
       "      <td>Middle-east</td>\n",
       "      <td>January 16, 2016</td>\n",
       "      <td>1</td>\n",
       "      <td>0.268</td>\n",
       "      <td>0.152</td>\n",
       "      <td>0.580</td>\n",
       "      <td>-0.3818</td>\n",
       "    </tr>\n",
       "    <tr>\n",
       "      <th>44894</th>\n",
       "      <td>JUSTICE? Yahoo Settles E-mail Privacy Class-ac...</td>\n",
       "      <td>21st Century Wire says It s a familiar theme. ...</td>\n",
       "      <td>Middle-east</td>\n",
       "      <td>January 16, 2016</td>\n",
       "      <td>1</td>\n",
       "      <td>0.000</td>\n",
       "      <td>0.273</td>\n",
       "      <td>0.727</td>\n",
       "      <td>0.6289</td>\n",
       "    </tr>\n",
       "    <tr>\n",
       "      <th>44895</th>\n",
       "      <td>Sunnistan: US and Allied ‘Safe Zone’ Plan to T...</td>\n",
       "      <td>Patrick Henningsen  21st Century WireRemember ...</td>\n",
       "      <td>Middle-east</td>\n",
       "      <td>January 15, 2016</td>\n",
       "      <td>1</td>\n",
       "      <td>0.000</td>\n",
       "      <td>0.000</td>\n",
       "      <td>1.000</td>\n",
       "      <td>0.0000</td>\n",
       "    </tr>\n",
       "    <tr>\n",
       "      <th>44896</th>\n",
       "      <td>How to Blow $700 Million: Al Jazeera America F...</td>\n",
       "      <td>21st Century Wire says Al Jazeera America will...</td>\n",
       "      <td>Middle-east</td>\n",
       "      <td>January 14, 2016</td>\n",
       "      <td>1</td>\n",
       "      <td>0.000</td>\n",
       "      <td>0.000</td>\n",
       "      <td>1.000</td>\n",
       "      <td>0.0000</td>\n",
       "    </tr>\n",
       "    <tr>\n",
       "      <th>44897</th>\n",
       "      <td>10 U.S. Navy Sailors Held by Iranian Military ...</td>\n",
       "      <td>21st Century Wire says As 21WIRE predicted in ...</td>\n",
       "      <td>Middle-east</td>\n",
       "      <td>January 12, 2016</td>\n",
       "      <td>1</td>\n",
       "      <td>0.000</td>\n",
       "      <td>0.000</td>\n",
       "      <td>1.000</td>\n",
       "      <td>0.0000</td>\n",
       "    </tr>\n",
       "  </tbody>\n",
       "</table>\n",
       "<p>44898 rows × 9 columns</p>\n",
       "</div>"
      ],
      "text/plain": [
       "                                                   title  \\\n",
       "0      As U.S. budget fight looms, Republicans flip t...   \n",
       "1      U.S. military to accept transgender recruits o...   \n",
       "2      Senior U.S. Republican senator: 'Let Mr. Muell...   \n",
       "3      FBI Russia probe helped by Australian diplomat...   \n",
       "4      Trump wants Postal Service to charge 'much mor...   \n",
       "...                                                  ...   \n",
       "44893  McPain: John McCain Furious That Iran Treated ...   \n",
       "44894  JUSTICE? Yahoo Settles E-mail Privacy Class-ac...   \n",
       "44895  Sunnistan: US and Allied ‘Safe Zone’ Plan to T...   \n",
       "44896  How to Blow $700 Million: Al Jazeera America F...   \n",
       "44897  10 U.S. Navy Sailors Held by Iranian Military ...   \n",
       "\n",
       "                                                    text       subject  \\\n",
       "0      WASHINGTON (Reuters) - The head of a conservat...  politicsNews   \n",
       "1      WASHINGTON (Reuters) - Transgender people will...  politicsNews   \n",
       "2      WASHINGTON (Reuters) - The special counsel inv...  politicsNews   \n",
       "3      WASHINGTON (Reuters) - Trump campaign adviser ...  politicsNews   \n",
       "4      SEATTLE/WASHINGTON (Reuters) - President Donal...  politicsNews   \n",
       "...                                                  ...           ...   \n",
       "44893  21st Century Wire says As 21WIRE reported earl...   Middle-east   \n",
       "44894  21st Century Wire says It s a familiar theme. ...   Middle-east   \n",
       "44895  Patrick Henningsen  21st Century WireRemember ...   Middle-east   \n",
       "44896  21st Century Wire says Al Jazeera America will...   Middle-east   \n",
       "44897  21st Century Wire says As 21WIRE predicted in ...   Middle-east   \n",
       "\n",
       "                     date  Fake  title sa neg  title sa pos  title sa neu  \\\n",
       "0      December 31, 2017      0         0.344         0.000         0.656   \n",
       "1      December 29, 2017      0         0.000         0.245         0.755   \n",
       "2      December 31, 2017      0         0.000         0.000         1.000   \n",
       "3      December 30, 2017      0         0.000         0.000         1.000   \n",
       "4      December 29, 2017      0         0.000         0.165         0.835   \n",
       "...                   ...   ...           ...           ...           ...   \n",
       "44893    January 16, 2016     1         0.268         0.152         0.580   \n",
       "44894    January 16, 2016     1         0.000         0.273         0.727   \n",
       "44895    January 15, 2016     1         0.000         0.000         1.000   \n",
       "44896    January 14, 2016     1         0.000         0.000         1.000   \n",
       "44897    January 12, 2016     1         0.000         0.000         1.000   \n",
       "\n",
       "       title sa comp  \n",
       "0            -0.4939  \n",
       "1             0.3818  \n",
       "2             0.0000  \n",
       "3             0.0000  \n",
       "4             0.2449  \n",
       "...              ...  \n",
       "44893        -0.3818  \n",
       "44894         0.6289  \n",
       "44895         0.0000  \n",
       "44896         0.0000  \n",
       "44897         0.0000  \n",
       "\n",
       "[44898 rows x 9 columns]"
      ]
     },
     "execution_count": 5,
     "metadata": {},
     "output_type": "execute_result"
    }
   ],
   "source": [
    "# importing pakcage for sentiment analysis\n",
    "from nltk.sentiment import SentimentIntensityAnalyzer\n",
    "\n",
    "# initializing features to zero \n",
    "data[[\"title sa neg\", \"title sa pos\", \"title sa neu\", \"title sa comp\"]] = 0 \n",
    "\n",
    "# performing title sentiment analysis for each instance\n",
    "for i in range(len(data)): \n",
    "    sa = SentimentIntensityAnalyzer().polarity_scores(data[\"title\"].iloc[i])\n",
    "    data[\"title sa neg\"].iloc[i] = sa[\"neg\"]\n",
    "    data[\"title sa pos\"].iloc[i] = sa[\"pos\"]\n",
    "    data[\"title sa neu\"].iloc[i] = sa[\"neu\"]\n",
    "    data[\"title sa comp\"].iloc[i] = sa[\"compound\"]\n",
    "    \n",
    "# displaying data\n",
    "data"
   ]
  },
  {
   "cell_type": "code",
   "execution_count": 43,
   "id": "525b07fd",
   "metadata": {
    "scrolled": true
   },
   "outputs": [
    {
     "data": {
      "text/html": [
       "<div>\n",
       "<style scoped>\n",
       "    .dataframe tbody tr th:only-of-type {\n",
       "        vertical-align: middle;\n",
       "    }\n",
       "\n",
       "    .dataframe tbody tr th {\n",
       "        vertical-align: top;\n",
       "    }\n",
       "\n",
       "    .dataframe thead th {\n",
       "        text-align: right;\n",
       "    }\n",
       "</style>\n",
       "<table border=\"1\" class=\"dataframe\">\n",
       "  <thead>\n",
       "    <tr style=\"text-align: right;\">\n",
       "      <th></th>\n",
       "      <th>title</th>\n",
       "      <th>text</th>\n",
       "      <th>subject</th>\n",
       "      <th>date</th>\n",
       "      <th>Fake</th>\n",
       "      <th>title sa neg</th>\n",
       "      <th>title sa pos</th>\n",
       "      <th>title sa neu</th>\n",
       "      <th>title sa comp</th>\n",
       "      <th>text sa neg</th>\n",
       "      <th>text sa pos</th>\n",
       "      <th>text sa neu</th>\n",
       "      <th>text sa comp</th>\n",
       "    </tr>\n",
       "  </thead>\n",
       "  <tbody>\n",
       "    <tr>\n",
       "      <th>0</th>\n",
       "      <td>As U.S. budget fight looms, Republicans flip t...</td>\n",
       "      <td>WASHINGTON (Reuters) - The head of a conservat...</td>\n",
       "      <td>politicsNews</td>\n",
       "      <td>December 31, 2017</td>\n",
       "      <td>0</td>\n",
       "      <td>0.344</td>\n",
       "      <td>0.000</td>\n",
       "      <td>0.656</td>\n",
       "      <td>-0.4939</td>\n",
       "      <td>0.049</td>\n",
       "      <td>0.089</td>\n",
       "      <td>0.862</td>\n",
       "      <td>0.9857</td>\n",
       "    </tr>\n",
       "    <tr>\n",
       "      <th>1</th>\n",
       "      <td>U.S. military to accept transgender recruits o...</td>\n",
       "      <td>WASHINGTON (Reuters) - Transgender people will...</td>\n",
       "      <td>politicsNews</td>\n",
       "      <td>December 29, 2017</td>\n",
       "      <td>0</td>\n",
       "      <td>0.000</td>\n",
       "      <td>0.245</td>\n",
       "      <td>0.755</td>\n",
       "      <td>0.3818</td>\n",
       "      <td>0.085</td>\n",
       "      <td>0.092</td>\n",
       "      <td>0.824</td>\n",
       "      <td>-0.0547</td>\n",
       "    </tr>\n",
       "    <tr>\n",
       "      <th>2</th>\n",
       "      <td>Senior U.S. Republican senator: 'Let Mr. Muell...</td>\n",
       "      <td>WASHINGTON (Reuters) - The special counsel inv...</td>\n",
       "      <td>politicsNews</td>\n",
       "      <td>December 31, 2017</td>\n",
       "      <td>0</td>\n",
       "      <td>0.000</td>\n",
       "      <td>0.000</td>\n",
       "      <td>1.000</td>\n",
       "      <td>0.0000</td>\n",
       "      <td>0.050</td>\n",
       "      <td>0.044</td>\n",
       "      <td>0.906</td>\n",
       "      <td>-0.6808</td>\n",
       "    </tr>\n",
       "    <tr>\n",
       "      <th>3</th>\n",
       "      <td>FBI Russia probe helped by Australian diplomat...</td>\n",
       "      <td>WASHINGTON (Reuters) - Trump campaign adviser ...</td>\n",
       "      <td>politicsNews</td>\n",
       "      <td>December 30, 2017</td>\n",
       "      <td>0</td>\n",
       "      <td>0.000</td>\n",
       "      <td>0.000</td>\n",
       "      <td>1.000</td>\n",
       "      <td>0.0000</td>\n",
       "      <td>0.067</td>\n",
       "      <td>0.059</td>\n",
       "      <td>0.874</td>\n",
       "      <td>-0.2201</td>\n",
       "    </tr>\n",
       "    <tr>\n",
       "      <th>4</th>\n",
       "      <td>Trump wants Postal Service to charge 'much mor...</td>\n",
       "      <td>SEATTLE/WASHINGTON (Reuters) - President Donal...</td>\n",
       "      <td>politicsNews</td>\n",
       "      <td>December 29, 2017</td>\n",
       "      <td>0</td>\n",
       "      <td>0.000</td>\n",
       "      <td>0.165</td>\n",
       "      <td>0.835</td>\n",
       "      <td>0.2449</td>\n",
       "      <td>0.045</td>\n",
       "      <td>0.061</td>\n",
       "      <td>0.893</td>\n",
       "      <td>0.5896</td>\n",
       "    </tr>\n",
       "    <tr>\n",
       "      <th>...</th>\n",
       "      <td>...</td>\n",
       "      <td>...</td>\n",
       "      <td>...</td>\n",
       "      <td>...</td>\n",
       "      <td>...</td>\n",
       "      <td>...</td>\n",
       "      <td>...</td>\n",
       "      <td>...</td>\n",
       "      <td>...</td>\n",
       "      <td>...</td>\n",
       "      <td>...</td>\n",
       "      <td>...</td>\n",
       "      <td>...</td>\n",
       "    </tr>\n",
       "    <tr>\n",
       "      <th>44893</th>\n",
       "      <td>McPain: John McCain Furious That Iran Treated ...</td>\n",
       "      <td>21st Century Wire says As 21WIRE reported earl...</td>\n",
       "      <td>Middle-east</td>\n",
       "      <td>January 16, 2016</td>\n",
       "      <td>1</td>\n",
       "      <td>0.268</td>\n",
       "      <td>0.152</td>\n",
       "      <td>0.580</td>\n",
       "      <td>-0.3818</td>\n",
       "      <td>0.102</td>\n",
       "      <td>0.111</td>\n",
       "      <td>0.787</td>\n",
       "      <td>0.7675</td>\n",
       "    </tr>\n",
       "    <tr>\n",
       "      <th>44894</th>\n",
       "      <td>JUSTICE? Yahoo Settles E-mail Privacy Class-ac...</td>\n",
       "      <td>21st Century Wire says It s a familiar theme. ...</td>\n",
       "      <td>Middle-east</td>\n",
       "      <td>January 16, 2016</td>\n",
       "      <td>1</td>\n",
       "      <td>0.000</td>\n",
       "      <td>0.273</td>\n",
       "      <td>0.727</td>\n",
       "      <td>0.6289</td>\n",
       "      <td>0.054</td>\n",
       "      <td>0.093</td>\n",
       "      <td>0.853</td>\n",
       "      <td>0.9429</td>\n",
       "    </tr>\n",
       "    <tr>\n",
       "      <th>44895</th>\n",
       "      <td>Sunnistan: US and Allied ‘Safe Zone’ Plan to T...</td>\n",
       "      <td>Patrick Henningsen  21st Century WireRemember ...</td>\n",
       "      <td>Middle-east</td>\n",
       "      <td>January 15, 2016</td>\n",
       "      <td>1</td>\n",
       "      <td>0.000</td>\n",
       "      <td>0.000</td>\n",
       "      <td>1.000</td>\n",
       "      <td>0.0000</td>\n",
       "      <td>0.130</td>\n",
       "      <td>0.103</td>\n",
       "      <td>0.767</td>\n",
       "      <td>-0.9994</td>\n",
       "    </tr>\n",
       "    <tr>\n",
       "      <th>44896</th>\n",
       "      <td>How to Blow $700 Million: Al Jazeera America F...</td>\n",
       "      <td>21st Century Wire says Al Jazeera America will...</td>\n",
       "      <td>Middle-east</td>\n",
       "      <td>January 14, 2016</td>\n",
       "      <td>1</td>\n",
       "      <td>0.000</td>\n",
       "      <td>0.000</td>\n",
       "      <td>1.000</td>\n",
       "      <td>0.0000</td>\n",
       "      <td>0.081</td>\n",
       "      <td>0.085</td>\n",
       "      <td>0.834</td>\n",
       "      <td>0.4589</td>\n",
       "    </tr>\n",
       "    <tr>\n",
       "      <th>44897</th>\n",
       "      <td>10 U.S. Navy Sailors Held by Iranian Military ...</td>\n",
       "      <td>21st Century Wire says As 21WIRE predicted in ...</td>\n",
       "      <td>Middle-east</td>\n",
       "      <td>January 12, 2016</td>\n",
       "      <td>1</td>\n",
       "      <td>0.000</td>\n",
       "      <td>0.000</td>\n",
       "      <td>1.000</td>\n",
       "      <td>0.0000</td>\n",
       "      <td>0.136</td>\n",
       "      <td>0.057</td>\n",
       "      <td>0.806</td>\n",
       "      <td>-0.9978</td>\n",
       "    </tr>\n",
       "  </tbody>\n",
       "</table>\n",
       "<p>44898 rows × 13 columns</p>\n",
       "</div>"
      ],
      "text/plain": [
       "                                                   title  \\\n",
       "0      As U.S. budget fight looms, Republicans flip t...   \n",
       "1      U.S. military to accept transgender recruits o...   \n",
       "2      Senior U.S. Republican senator: 'Let Mr. Muell...   \n",
       "3      FBI Russia probe helped by Australian diplomat...   \n",
       "4      Trump wants Postal Service to charge 'much mor...   \n",
       "...                                                  ...   \n",
       "44893  McPain: John McCain Furious That Iran Treated ...   \n",
       "44894  JUSTICE? Yahoo Settles E-mail Privacy Class-ac...   \n",
       "44895  Sunnistan: US and Allied ‘Safe Zone’ Plan to T...   \n",
       "44896  How to Blow $700 Million: Al Jazeera America F...   \n",
       "44897  10 U.S. Navy Sailors Held by Iranian Military ...   \n",
       "\n",
       "                                                    text       subject  \\\n",
       "0      WASHINGTON (Reuters) - The head of a conservat...  politicsNews   \n",
       "1      WASHINGTON (Reuters) - Transgender people will...  politicsNews   \n",
       "2      WASHINGTON (Reuters) - The special counsel inv...  politicsNews   \n",
       "3      WASHINGTON (Reuters) - Trump campaign adviser ...  politicsNews   \n",
       "4      SEATTLE/WASHINGTON (Reuters) - President Donal...  politicsNews   \n",
       "...                                                  ...           ...   \n",
       "44893  21st Century Wire says As 21WIRE reported earl...   Middle-east   \n",
       "44894  21st Century Wire says It s a familiar theme. ...   Middle-east   \n",
       "44895  Patrick Henningsen  21st Century WireRemember ...   Middle-east   \n",
       "44896  21st Century Wire says Al Jazeera America will...   Middle-east   \n",
       "44897  21st Century Wire says As 21WIRE predicted in ...   Middle-east   \n",
       "\n",
       "                     date  Fake  title sa neg  title sa pos  title sa neu  \\\n",
       "0      December 31, 2017      0         0.344         0.000         0.656   \n",
       "1      December 29, 2017      0         0.000         0.245         0.755   \n",
       "2      December 31, 2017      0         0.000         0.000         1.000   \n",
       "3      December 30, 2017      0         0.000         0.000         1.000   \n",
       "4      December 29, 2017      0         0.000         0.165         0.835   \n",
       "...                   ...   ...           ...           ...           ...   \n",
       "44893    January 16, 2016     1         0.268         0.152         0.580   \n",
       "44894    January 16, 2016     1         0.000         0.273         0.727   \n",
       "44895    January 15, 2016     1         0.000         0.000         1.000   \n",
       "44896    January 14, 2016     1         0.000         0.000         1.000   \n",
       "44897    January 12, 2016     1         0.000         0.000         1.000   \n",
       "\n",
       "       title sa comp  text sa neg  text sa pos  text sa neu  text sa comp  \n",
       "0            -0.4939        0.049        0.089        0.862        0.9857  \n",
       "1             0.3818        0.085        0.092        0.824       -0.0547  \n",
       "2             0.0000        0.050        0.044        0.906       -0.6808  \n",
       "3             0.0000        0.067        0.059        0.874       -0.2201  \n",
       "4             0.2449        0.045        0.061        0.893        0.5896  \n",
       "...              ...          ...          ...          ...           ...  \n",
       "44893        -0.3818        0.102        0.111        0.787        0.7675  \n",
       "44894         0.6289        0.054        0.093        0.853        0.9429  \n",
       "44895         0.0000        0.130        0.103        0.767       -0.9994  \n",
       "44896         0.0000        0.081        0.085        0.834        0.4589  \n",
       "44897         0.0000        0.136        0.057        0.806       -0.9978  \n",
       "\n",
       "[44898 rows x 13 columns]"
      ]
     },
     "execution_count": 43,
     "metadata": {},
     "output_type": "execute_result"
    }
   ],
   "source": [
    "# initializing features to zero \n",
    "data[[\"text sa neg\", \"text sa pos\", \"text sa neu\", \"text sa comp\"]] = 0 \n",
    "\n",
    "# performing text sentiment analysis for each instance\n",
    "for i in range(len(data)): \n",
    "    sa = SentimentIntensityAnalyzer().polarity_scores(data[\"text\"].iloc[i])\n",
    "    data[\"text sa neg\"].iloc[i] = sa[\"neg\"]\n",
    "    data[\"text sa pos\"].iloc[i] = sa[\"pos\"]\n",
    "    data[\"text sa neu\"].iloc[i] = sa[\"neu\"]\n",
    "    data[\"text sa comp\"].iloc[i] = sa[\"compound\"]\n",
    "    \n",
    "# displaying data\n",
    "data"
   ]
  },
  {
   "cell_type": "code",
   "execution_count": 131,
   "id": "8f552415",
   "metadata": {},
   "outputs": [
    {
     "data": {
      "text/plain": [
       "(array([1.0000e+00, 0.0000e+00, 0.0000e+00, 0.0000e+00, 0.0000e+00,\n",
       "        5.0000e+00, 2.1800e+02, 4.7910e+03, 1.3147e+04, 3.2550e+03]),\n",
       " array([0. , 0.1, 0.2, 0.3, 0.4, 0.5, 0.6, 0.7, 0.8, 0.9, 1. ]),\n",
       " <BarContainer object of 10 artists>)"
      ]
     },
     "execution_count": 131,
     "metadata": {},
     "output_type": "execute_result"
    },
    {
     "data": {
      "image/png": "[encoded data removed]",
      "text/plain": [
       "<Figure size 432x1080 with 16 Axes>"
      ]
     },
     "metadata": {
      "needs_background": "light"
     },
     "output_type": "display_data"
    }
   ],
   "source": [
    "import matplotlib.pyplot as plt\n",
    "\n",
    "# comp data\n",
    "fake_sa_text = data[data.Fake == 1][\"text sa comp\"].to_numpy()\n",
    "real_sa_text = data[data.Fake == 0][\"text sa comp\"].to_numpy()\n",
    "\n",
    "fake_sa_title = data[data.Fake == 1][\"title sa comp\"].to_numpy()\n",
    "real_sa_title = data[data.Fake == 0][\"title sa comp\"].to_numpy()\n",
    "\n",
    "# neg data\n",
    "fake_sa_text_neg = data[data.Fake == 1][\"text sa neg\"].to_numpy()\n",
    "real_sa_text_neg = data[data.Fake == 0][\"text sa neg\"].to_numpy()\n",
    "\n",
    "fake_sa_title_neg = data[data.Fake == 1][\"title sa neg\"].to_numpy()\n",
    "real_sa_title_neg = data[data.Fake == 0][\"title sa neg\"].to_numpy()\n",
    "\n",
    "# pos data\n",
    "fake_sa_text_pos = data[data.Fake == 1][\"text sa pos\"].to_numpy()\n",
    "real_sa_text_pos = data[data.Fake == 0][\"text sa pos\"].to_numpy()\n",
    "\n",
    "fake_sa_title_pos = data[data.Fake == 1][\"title sa pos\"].to_numpy()\n",
    "real_sa_title_pos = data[data.Fake == 0][\"title sa pos\"].to_numpy()\n",
    "\n",
    "# neu data\n",
    "fake_sa_text_neu = data[data.Fake == 1][\"text sa neu\"].to_numpy()\n",
    "real_sa_text_neu = data[data.Fake == 0][\"text sa neu\"].to_numpy()\n",
    "\n",
    "fake_sa_title_neu = data[data.Fake == 1][\"title sa neu\"].to_numpy()\n",
    "real_sa_title_neu = data[data.Fake == 0][\"title sa neu\"].to_numpy()\n",
    "\n",
    "\n",
    "# adjusting display size\n",
    "plt.rcParams[\"figure.figsize\"] = (6,15)\n",
    "\n",
    "# setting figure parameters\n",
    "fig, axs = plt.subplots(8, 2, sharey=True, tight_layout=True)\n",
    "\n",
    "# compopund Sentiment Analysis \n",
    "axs[0, 0].hist(fake_sa_title, range=(-1,1), color = \"pink\")\n",
    "axs[0, 1].hist(real_sa_title, range=(-1,1))\n",
    "axs[1, 0].hist(fake_sa_text, range=(-1,1), color = \"pink\")\n",
    "axs[1, 1].hist(real_sa_text, range=(-1,1))\n",
    "\n",
    "# negative Sentiment Analysis\n",
    "axs[2, 0].hist(fake_sa_title_neg, range=(0,0.5), color = \"pink\")\n",
    "axs[2, 1].hist(real_sa_title_neg, range=(0,0.5))\n",
    "axs[3, 0].hist(fake_sa_text_neg, range=(0,0.5), color = \"pink\")\n",
    "axs[3, 1].hist(real_sa_text_neg, range=(0,0.5))\n",
    "\n",
    "# positive Sentiment Analysis\n",
    "axs[4, 0].hist(fake_sa_title_pos, range=(0,0.5), color = \"pink\")\n",
    "axs[4, 1].hist(real_sa_title_pos, range=(0,0.5))\n",
    "axs[5, 0].hist(fake_sa_text_pos, range=(0,0.5), color = \"pink\")\n",
    "axs[5, 1].hist(real_sa_text_pos, range=(0,0.5))\n",
    "\n",
    "# neutral Sentiment Analysis\n",
    "axs[6, 0].hist(fake_sa_title_neu, range=(0,1), color = \"pink\")\n",
    "axs[6, 1].hist(real_sa_title_neu, range=(0,1))\n",
    "axs[7, 0].hist(fake_sa_text_neu, range=(0,1), color = \"pink\")\n",
    "axs[7, 1].hist(real_sa_text_neu, range=(0,1))\n"
   ]
  },
  {
   "cell_type": "code",
   "execution_count": 4,
   "id": "8c8bee7a",
   "metadata": {},
   "outputs": [],
   "source": [
    "# backing up data into a csv file \n",
    "data.to_csv(\"v2.csv\")"
   ]
  },
  {
   "cell_type": "markdown",
   "id": "a41bbb21",
   "metadata": {},
   "source": [
    "### Train Test Data Split"
   ]
  },
  {
   "cell_type": "code",
   "execution_count": 10,
   "id": "4966cfda",
   "metadata": {},
   "outputs": [],
   "source": [
    "from sklearn.model_selection import train_test_split\n",
    "\n",
    "data = pd.read_csv(\"./v1.csv\", index_col=0)\n",
    "\n",
    "# getting list of feature names\n",
    "features = list(data.columns)\n",
    "\n",
    "# feature data\n",
    "X = data[features]\n",
    "\n",
    "# labels \n",
    "y = data[\"Fake\"]\n",
    "\n",
    "# splitting data (75% training)\n",
    "train_data, test_data, y_train, y_test = train_test_split(X, y, random_state=0)"
   ]
  },
  {
   "cell_type": "markdown",
   "id": "c725bba9",
   "metadata": {},
   "source": [
    "### TF-IDF Analysis"
   ]
  },
  {
   "cell_type": "code",
   "execution_count": 12,
   "id": "8f3c1175",
   "metadata": {},
   "outputs": [],
   "source": [
    "# importing package for tf/idf vectorizaiton\n",
    "from sklearn.feature_extraction.text import TfidfVectorizer\n",
    "\n",
    "stopwords = nltk.corpus.stopwords.words('english')\n",
    "\n",
    "# defining title corpus \n",
    "title_corpus = train_data[\"title\"].to_numpy()\n",
    "  \n",
    "# defining text corpus \n",
    "text_corpus = train_data[\"text\"].to_numpy()\n",
    "\n",
    "# vectorizer objects\n",
    "vec_title = TfidfVectorizer(stop_words=stopwords, max_features=2000)\n",
    "vec_text = TfidfVectorizer(stop_words=stopwords, max_features=2000)\n",
    "\n",
    "# fitting the titles to a vector using training data\n",
    "title_matrix_train = vec_title.fit_transform(title_corpus)\n",
    "title_feature_names = list(vec_title.get_feature_names_out())\n",
    "\n",
    "# fitting the text to a vector\n",
    "text_matrix_train = vec_text.fit_transform(text_corpus)\n",
    "text_feature_names = list(vec_text.get_feature_names_out())\n",
    "\n",
    "# modifying feature names (to distinguish between title and text)\n",
    "for i in range(len(title_feature_names)):\n",
    "    title_feature_names[i] = \"title: \" + title_feature_names[i]\n",
    "for i in range(len(text_feature_names)):\n",
    "    text_feature_names[i] = \"text: \" + text_feature_names[i]\n",
    "\n",
    "# adding all features to the training dataframe\n",
    "train_data[title_feature_names] = title_matrix_train.todense()\n",
    "train_data[text_feature_names] = title_matrix_train.todense()\n",
    "\n",
    "# transforming the titles to a vector using testing data\n",
    "title_matrix_test = vec_title.transform(test_data[\"title\"].to_numpy())\n",
    "text_matrix_test = vec_title.transform(test_data[\"text\"].to_numpy())\n",
    "\n",
    "# adding all features to the testing dataframe\n",
    "test_data[title_feature_names] = title_matrix_test.todense()\n",
    "test_data[text_feature_names] = title_matrix_test.todense()\n"
   ]
  },
  {
   "cell_type": "code",
   "execution_count": 46,
   "id": "9fd70508",
   "metadata": {
    "scrolled": true
   },
   "outputs": [],
   "source": [
    "# saving feature extraction in csv files\n",
    "test_data.to_csv(\"test_data.csv\")\n",
    "train_data.to_csv(\"train_data.csv\")"
   ]
  },
  {
   "cell_type": "code",
   "execution_count": 17,
   "id": "e06a207a",
   "metadata": {
    "scrolled": true
   },
   "outputs": [
    {
     "data": {
      "text/html": [
       "<div>\n",
       "<style scoped>\n",
       "    .dataframe tbody tr th:only-of-type {\n",
       "        vertical-align: middle;\n",
       "    }\n",
       "\n",
       "    .dataframe tbody tr th {\n",
       "        vertical-align: top;\n",
       "    }\n",
       "\n",
       "    .dataframe thead th {\n",
       "        text-align: right;\n",
       "    }\n",
       "</style>\n",
       "<table border=\"1\" class=\"dataframe\">\n",
       "  <thead>\n",
       "    <tr style=\"text-align: right;\">\n",
       "      <th></th>\n",
       "      <th>feature</th>\n",
       "      <th>weight</th>\n",
       "    </tr>\n",
       "  </thead>\n",
       "  <tbody>\n",
       "    <tr>\n",
       "      <th>1433</th>\n",
       "      <td>quot</td>\n",
       "      <td>10.325869</td>\n",
       "    </tr>\n",
       "    <tr>\n",
       "      <th>965</th>\n",
       "      <td>js</td>\n",
       "      <td>6.620460</td>\n",
       "    </tr>\n",
       "    <tr>\n",
       "      <th>813</th>\n",
       "      <td>hariri</td>\n",
       "      <td>6.440875</td>\n",
       "    </tr>\n",
       "    <tr>\n",
       "      <th>712</th>\n",
       "      <td>flint</td>\n",
       "      <td>6.324615</td>\n",
       "    </tr>\n",
       "    <tr>\n",
       "      <th>1779</th>\n",
       "      <td>taiwan</td>\n",
       "      <td>6.012835</td>\n",
       "    </tr>\n",
       "    <tr>\n",
       "      <th>325</th>\n",
       "      <td>catalan</td>\n",
       "      <td>5.999531</td>\n",
       "    </tr>\n",
       "    <tr>\n",
       "      <th>1341</th>\n",
       "      <td>pope</td>\n",
       "      <td>5.969160</td>\n",
       "    </tr>\n",
       "    <tr>\n",
       "      <th>491</th>\n",
       "      <td>cuban</td>\n",
       "      <td>5.895052</td>\n",
       "    </tr>\n",
       "    <tr>\n",
       "      <th>326</th>\n",
       "      <td>catalonia</td>\n",
       "      <td>5.879304</td>\n",
       "    </tr>\n",
       "    <tr>\n",
       "      <th>361</th>\n",
       "      <td>christie</td>\n",
       "      <td>5.852327</td>\n",
       "    </tr>\n",
       "    <tr>\n",
       "      <th>622</th>\n",
       "      <td>epa</td>\n",
       "      <td>5.844751</td>\n",
       "    </tr>\n",
       "    <tr>\n",
       "      <th>931</th>\n",
       "      <td>ireland</td>\n",
       "      <td>5.826059</td>\n",
       "    </tr>\n",
       "    <tr>\n",
       "      <th>806</th>\n",
       "      <td>hannity</td>\n",
       "      <td>5.815010</td>\n",
       "    </tr>\n",
       "    <tr>\n",
       "      <th>1689</th>\n",
       "      <td>soros</td>\n",
       "      <td>5.815010</td>\n",
       "    </tr>\n",
       "    <tr>\n",
       "      <th>1087</th>\n",
       "      <td>manafort</td>\n",
       "      <td>5.811353</td>\n",
       "    </tr>\n",
       "    <tr>\n",
       "      <th>320</th>\n",
       "      <td>carson</td>\n",
       "      <td>5.771992</td>\n",
       "    </tr>\n",
       "    <tr>\n",
       "      <th>994</th>\n",
       "      <td>kushner</td>\n",
       "      <td>5.764999</td>\n",
       "    </tr>\n",
       "    <tr>\n",
       "      <th>1275</th>\n",
       "      <td>parenthood</td>\n",
       "      <td>5.764999</td>\n",
       "    </tr>\n",
       "    <tr>\n",
       "      <th>1554</th>\n",
       "      <td>rohingya</td>\n",
       "      <td>5.751158</td>\n",
       "    </tr>\n",
       "    <tr>\n",
       "      <th>863</th>\n",
       "      <td>id</td>\n",
       "      <td>5.747728</td>\n",
       "    </tr>\n",
       "  </tbody>\n",
       "</table>\n",
       "</div>"
      ],
      "text/plain": [
       "         feature     weight\n",
       "1433        quot  10.325869\n",
       "965           js   6.620460\n",
       "813       hariri   6.440875\n",
       "712        flint   6.324615\n",
       "1779      taiwan   6.012835\n",
       "325      catalan   5.999531\n",
       "1341        pope   5.969160\n",
       "491        cuban   5.895052\n",
       "326    catalonia   5.879304\n",
       "361     christie   5.852327\n",
       "622          epa   5.844751\n",
       "931      ireland   5.826059\n",
       "806      hannity   5.815010\n",
       "1689       soros   5.815010\n",
       "1087    manafort   5.811353\n",
       "320       carson   5.771992\n",
       "994      kushner   5.764999\n",
       "1275  parenthood   5.764999\n",
       "1554    rohingya   5.751158\n",
       "863           id   5.747728"
      ]
     },
     "execution_count": 17,
     "metadata": {},
     "output_type": "execute_result"
    }
   ],
   "source": [
    "# getting the top 20 highest weighted terms for title\n",
    "\n",
    "# creating a dataframe for title features\n",
    "text_feature_weights = pd.DataFrame()\n",
    "\n",
    "# getting a list of feature importance values\n",
    "text_f_weights = list(vec_text.idf_)\n",
    "\n",
    "# list of feature names \n",
    "text_f_names = list(vec_text.get_feature_names())\n",
    "\n",
    "# adding to dataframe \n",
    "text_feature_weights[\"feature\"] = text_f_names\n",
    "text_feature_weights[\"weight\"] = text_f_weights\n",
    "\n",
    "# sorting features by feature weight\n",
    "text_feature_weights = text_feature_weights.sort_values(by=\"weight\", ascending=False)\n",
    "\n",
    "# top 20 highest weighted features\n",
    "text_feature_weights.iloc[:20]"
   ]
  },
  {
   "cell_type": "code",
   "execution_count": 18,
   "id": "0ddfb7e4",
   "metadata": {
    "scrolled": true
   },
   "outputs": [
    {
     "data": {
      "text/html": [
       "<div>\n",
       "<style scoped>\n",
       "    .dataframe tbody tr th:only-of-type {\n",
       "        vertical-align: middle;\n",
       "    }\n",
       "\n",
       "    .dataframe tbody tr th {\n",
       "        vertical-align: top;\n",
       "    }\n",
       "\n",
       "    .dataframe thead th {\n",
       "        text-align: right;\n",
       "    }\n",
       "</style>\n",
       "<table border=\"1\" class=\"dataframe\">\n",
       "  <thead>\n",
       "    <tr style=\"text-align: right;\">\n",
       "      <th></th>\n",
       "      <th>feature</th>\n",
       "      <th>weight</th>\n",
       "    </tr>\n",
       "  </thead>\n",
       "  <tbody>\n",
       "    <tr>\n",
       "      <th>806</th>\n",
       "      <td>hat</td>\n",
       "      <td>8.057185</td>\n",
       "    </tr>\n",
       "    <tr>\n",
       "      <th>707</th>\n",
       "      <td>founder</td>\n",
       "      <td>8.057185</td>\n",
       "    </tr>\n",
       "    <tr>\n",
       "      <th>992</th>\n",
       "      <td>known</td>\n",
       "      <td>8.023284</td>\n",
       "    </tr>\n",
       "    <tr>\n",
       "      <th>698</th>\n",
       "      <td>football</td>\n",
       "      <td>8.023284</td>\n",
       "    </tr>\n",
       "    <tr>\n",
       "      <th>824</th>\n",
       "      <td>hey</td>\n",
       "      <td>8.023284</td>\n",
       "    </tr>\n",
       "    <tr>\n",
       "      <th>364</th>\n",
       "      <td>club</td>\n",
       "      <td>8.023284</td>\n",
       "    </tr>\n",
       "    <tr>\n",
       "      <th>665</th>\n",
       "      <td>ferguson</td>\n",
       "      <td>8.023284</td>\n",
       "    </tr>\n",
       "    <tr>\n",
       "      <th>224</th>\n",
       "      <td>blocking</td>\n",
       "      <td>7.990494</td>\n",
       "    </tr>\n",
       "    <tr>\n",
       "      <th>998</th>\n",
       "      <td>kurdistan</td>\n",
       "      <td>7.990494</td>\n",
       "    </tr>\n",
       "    <tr>\n",
       "      <th>757</th>\n",
       "      <td>goldman</td>\n",
       "      <td>7.990494</td>\n",
       "    </tr>\n",
       "    <tr>\n",
       "      <th>87</th>\n",
       "      <td>allegedly</td>\n",
       "      <td>7.990494</td>\n",
       "    </tr>\n",
       "    <tr>\n",
       "      <th>958</th>\n",
       "      <td>judges</td>\n",
       "      <td>7.990494</td>\n",
       "    </tr>\n",
       "    <tr>\n",
       "      <th>497</th>\n",
       "      <td>delays</td>\n",
       "      <td>7.990494</td>\n",
       "    </tr>\n",
       "    <tr>\n",
       "      <th>510</th>\n",
       "      <td>deported</td>\n",
       "      <td>7.990494</td>\n",
       "    </tr>\n",
       "    <tr>\n",
       "      <th>1644</th>\n",
       "      <td>singapore</td>\n",
       "      <td>7.990494</td>\n",
       "    </tr>\n",
       "    <tr>\n",
       "      <th>1341</th>\n",
       "      <td>player</td>\n",
       "      <td>7.990494</td>\n",
       "    </tr>\n",
       "    <tr>\n",
       "      <th>169</th>\n",
       "      <td>backfires</td>\n",
       "      <td>7.990494</td>\n",
       "    </tr>\n",
       "    <tr>\n",
       "      <th>305</th>\n",
       "      <td>catholic</td>\n",
       "      <td>7.990494</td>\n",
       "    </tr>\n",
       "    <tr>\n",
       "      <th>1383</th>\n",
       "      <td>prisoners</td>\n",
       "      <td>7.990494</td>\n",
       "    </tr>\n",
       "    <tr>\n",
       "      <th>1389</th>\n",
       "      <td>problems</td>\n",
       "      <td>7.990494</td>\n",
       "    </tr>\n",
       "  </tbody>\n",
       "</table>\n",
       "</div>"
      ],
      "text/plain": [
       "        feature    weight\n",
       "806         hat  8.057185\n",
       "707     founder  8.057185\n",
       "992       known  8.023284\n",
       "698    football  8.023284\n",
       "824         hey  8.023284\n",
       "364        club  8.023284\n",
       "665    ferguson  8.023284\n",
       "224    blocking  7.990494\n",
       "998   kurdistan  7.990494\n",
       "757     goldman  7.990494\n",
       "87    allegedly  7.990494\n",
       "958      judges  7.990494\n",
       "497      delays  7.990494\n",
       "510    deported  7.990494\n",
       "1644  singapore  7.990494\n",
       "1341     player  7.990494\n",
       "169   backfires  7.990494\n",
       "305    catholic  7.990494\n",
       "1383  prisoners  7.990494\n",
       "1389   problems  7.990494"
      ]
     },
     "execution_count": 18,
     "metadata": {},
     "output_type": "execute_result"
    }
   ],
   "source": [
    "# getting the top 20 highest weighted terms for title\n",
    "\n",
    "# creating a dataframe for title features\n",
    "title_feature_weights = pd.DataFrame()\n",
    "\n",
    "# getting a list of feature importance values\n",
    "title_f_weights = list(vec_title.idf_)\n",
    "\n",
    "# list of feature names \n",
    "title_f_names = list(vec_title.get_feature_names())\n",
    "\n",
    "# adding to dataframe \n",
    "title_feature_weights[\"feature\"] = title_f_names\n",
    "title_feature_weights[\"weight\"] = title_f_weights\n",
    "\n",
    "# sorting features by feature weight\n",
    "title_feature_weights = title_feature_weights.sort_values(by=\"weight\", ascending=False)\n",
    "\n",
    "# top 20 highest weighted features\n",
    "title_feature_weights.iloc[:20]\n"
   ]
  },
  {
   "cell_type": "code",
   "execution_count": 38,
   "id": "84365cac",
   "metadata": {},
   "outputs": [
    {
     "data": {
      "text/plain": [
       "[]"
      ]
     },
     "execution_count": 38,
     "metadata": {},
     "output_type": "execute_result"
    }
   ],
   "source": [
    "# Is there any overlap between the top 20 highest weighted terms in title and text? \n",
    "[term for term in title_feature_weights[\"feature\"] if term in text_feature_weights[\"feature\"]]"
   ]
  },
  {
   "cell_type": "code",
   "execution_count": 39,
   "id": "7bd69e4a",
   "metadata": {},
   "outputs": [
    {
     "data": {
      "text/plain": [
       "1381"
      ]
     },
     "execution_count": 39,
     "metadata": {},
     "output_type": "execute_result"
    }
   ],
   "source": [
    "# How many terms are shared in total between the title and text features? \n",
    "len([term for term in vec_title.get_feature_names() if term in vec_text.get_feature_names()])"
   ]
  },
  {
   "cell_type": "code",
   "execution_count": 23,
   "id": "2c7909e1",
   "metadata": {},
   "outputs": [],
   "source": [
    "# formatting testing and training data \n",
    "\n",
    "features = list(train_data.columns)\n",
    "features = features[5:]\n",
    "features\n",
    "\n",
    "X_train = train_data[features]\n",
    "X_test = test_data[features]"
   ]
  },
  {
   "cell_type": "markdown",
   "id": "b45794b1",
   "metadata": {},
   "source": [
    "### Model Testing Code"
   ]
  },
  {
   "cell_type": "code",
   "execution_count": 24,
   "id": "aa4aeb54",
   "metadata": {},
   "outputs": [],
   "source": [
    "from sklearn.metrics import RocCurveDisplay\n",
    "import matplotlib.pyplot as plt\n",
    "from sklearn.metrics import confusion_matrix, ConfusionMatrixDisplay\n",
    "\n",
    "# function for analyzing performance of model on binary classifier \n",
    "def binary_classifier_model_analysis(x, y, model): \n",
    "\n",
    "    pred = model.predict(x)\n",
    "    TP, TN, FP, FN = [0, 0, 0, 0]\n",
    "    \n",
    "    for i in range(len(x)): \n",
    "        if y[i] == 1: \n",
    "            if pred[i] > 0.5: \n",
    "                TP += 1 \n",
    "            else: \n",
    "                FN += 1 \n",
    "        else:\n",
    "            if pred[i] > 0.5: \n",
    "                FP += 1 \n",
    "            else: \n",
    "                TN += 1 \n",
    "\n",
    "    accuracy = (TP + TN) / len(x)\n",
    "    error =  1 - accuracy\n",
    "    precision = TP / (TP + FP)\n",
    "    recall = TP / (TP + FN)\n",
    "    f1 = 2*precision * recall / (precision + recall)\n",
    "    \n",
    "    cm = confusion_matrix(y, pred, labels=[0, 1])\n",
    "     \n",
    "    return [accuracy, error, precision, recall, f1, cm]\n",
    "\n",
    "\n",
    "# function for printing the results of binary classiffier analysis\n",
    "def binary_classifier_model_analysis_print(x, y, model):\n",
    "    \n",
    "    results = binary_classifier_model_analysis(x, y, model)\n",
    "    print(\"\\tAccuracy: \" + str(results[0]))\n",
    "    print(\"\\tError: \" + str(results[1]))\n",
    "    print(\"\\tPrecision: \" + str(results[2]))\n",
    "    print(\"\\tRecall: \" + str(results[3]))\n",
    "    print(\"\\tF1 score: \" + str(results[4]))\n",
    "    \n",
    "    RocCurveDisplay.from_estimator(model, x, y)\n",
    "    disp = ConfusionMatrixDisplay(confusion_matrix=results[5], display_labels=[0,1])\n",
    "    disp.plot()\n",
    "\n",
    "    plt.show()\n",
    "    "
   ]
  },
  {
   "cell_type": "markdown",
   "id": "34be8c04",
   "metadata": {},
   "source": [
    "### Naive Bayes Model"
   ]
  },
  {
   "cell_type": "code",
   "execution_count": 25,
   "id": "18399ef8",
   "metadata": {
    "scrolled": false
   },
   "outputs": [
    {
     "name": "stdout",
     "output_type": "stream",
     "text": [
      "\n",
      "Naive Bayes on Training Data\n",
      "\tAccuracy: 0.8954949068987023\n",
      "\tError: 0.10450509310129774\n",
      "\tPrecision: 0.9424645501317606\n",
      "\tRecall: 0.8523520399477955\n",
      "\tF1 score: 0.89514615178332\n"
     ]
    },
    {
     "data": {
      "image/png": "[encoded data removed]",
      "text/plain": [
       "<Figure size 432x288 with 1 Axes>"
      ]
     },
     "metadata": {
      "needs_background": "light"
     },
     "output_type": "display_data"
    },
    {
     "data": {
      "image/png": "[encoded data removed]",
      "text/plain": [
       "<Figure size 432x288 with 2 Axes>"
      ]
     },
     "metadata": {
      "needs_background": "light"
     },
     "output_type": "display_data"
    },
    {
     "name": "stdout",
     "output_type": "stream",
     "text": [
      "\n",
      "Naive Bayes on Testing Data\n",
      "\tAccuracy: 0.8841870824053452\n",
      "\tError: 0.11581291759465484\n",
      "\tPrecision: 0.9301623254058136\n",
      "\tRecall: 0.8412427449641516\n",
      "\tF1 score: 0.8834707780566512\n"
     ]
    },
    {
     "data": {
      "image/png": "[encoded data removed]",
      "text/plain": [
       "<Figure size 432x288 with 1 Axes>"
      ]
     },
     "metadata": {
      "needs_background": "light"
     },
     "output_type": "display_data"
    },
    {
     "data": {
      "image/png": "[encoded data removed]",
      "text/plain": [
       "<Figure size 432x288 with 2 Axes>"
      ]
     },
     "metadata": {
      "needs_background": "light"
     },
     "output_type": "display_data"
    }
   ],
   "source": [
    "from sklearn.naive_bayes import GaussianNB\n",
    "\n",
    "# NB model object \n",
    "model = GaussianNB()\n",
    "\n",
    "# training the NB model\n",
    "model.fit(X_train, y_train)\n",
    "\n",
    "# Analyzing Model on Training Data\n",
    "print(\"\\nNaive Bayes on Training Data\")\n",
    "binary_classifier_model_analysis_print(X_train.to_numpy(), y_train.to_numpy(), model)\n",
    "\n",
    "# Analyzing Model on Testing Data\n",
    "print(\"\\nNaive Bayes on Testing Data\")\n",
    "binary_classifier_model_analysis_print(X_test.to_numpy(), y_test.to_numpy(), model)"
   ]
  },
  {
   "cell_type": "markdown",
   "id": "087e6109",
   "metadata": {},
   "source": [
    "### KNN Model"
   ]
  },
  {
   "cell_type": "code",
   "execution_count": 26,
   "id": "c06e3099",
   "metadata": {},
   "outputs": [
    {
     "name": "stdout",
     "output_type": "stream",
     "text": [
      "k:  2\n",
      "\tCross Validation Score:  0.6388201878179606\n",
      "\n",
      "\n",
      "k:  4\n",
      "\tCross Validation Score:  0.6850893723944949\n",
      "\n",
      "\n",
      "k:  6\n",
      "\tCross Validation Score:  0.7493541290868684\n",
      "\n",
      "\n",
      "k:  8\n",
      "\tCross Validation Score:  0.7671128859102133\n",
      "\n",
      "\n",
      "k:  10\n",
      "\tCross Validation Score:  0.7925042108115605\n",
      "\n",
      "\n",
      "k:  20\n",
      "\tCross Validation Score:  0.8674604049214294\n",
      "\n",
      "\n",
      "k:  30\n",
      "\tCross Validation Score:  0.8840316412254051\n",
      "\n",
      "\n"
     ]
    }
   ],
   "source": [
    "# imports for KNN and CV\n",
    "from sklearn.neighbors import KNeighborsClassifier\n",
    "from sklearn.model_selection import cross_val_score\n",
    "\n",
    "# Cross Validation for KNN \n",
    "k_values = [2, 4, 6, 8, 10, 20, 30]\n",
    "best_score = float(\"-inf\")\n",
    "best_k = -1\n",
    "for k in k_values: \n",
    "    knn = KNeighborsClassifier(n_neighbors=k)\n",
    "    knn.fit(X_train, y_train)\n",
    "    score = cross_val_score(knn, X_train, y_train, cv=5, scoring='accuracy').mean()\n",
    "\n",
    "    # Show CV error for each value of k\n",
    "    print(\"k: \", k)\n",
    "    print(\"\\tCross Validation Score: \", score)\n",
    "    print(\"\\n\")\n",
    "\n",
    "    if score > best_score:\n",
    "        best_k = k\n",
    "        best_score = score"
   ]
  },
  {
   "cell_type": "code",
   "execution_count": 27,
   "id": "19e0d29c",
   "metadata": {},
   "outputs": [
    {
     "name": "stdout",
     "output_type": "stream",
     "text": [
      "\n",
      "KNN on Training Data\n",
      "\tAccuracy: 0.8981973688118077\n",
      "\tError: 0.10180263118819233\n",
      "\tPrecision: 0.9211916206753309\n",
      "\tRecall: 0.8808375418487204\n",
      "\tF1 score: 0.900562742936706\n"
     ]
    },
    {
     "data": {
      "image/png": "[encoded data removed]",
      "text/plain": [
       "<Figure size 432x288 with 1 Axes>"
      ]
     },
     "metadata": {
      "needs_background": "light"
     },
     "output_type": "display_data"
    },
    {
     "data": {
      "image/png": "[encoded data removed]",
      "text/plain": [
       "<Figure size 432x288 with 2 Axes>"
      ]
     },
     "metadata": {
      "needs_background": "light"
     },
     "output_type": "display_data"
    },
    {
     "name": "stdout",
     "output_type": "stream",
     "text": [
      "\n",
      "KNN on Testing Data\n",
      "\tAccuracy: 0.8874832962138085\n",
      "\tError: 0.1125167037861915\n",
      "\tPrecision: 0.9115171054988358\n",
      "\tRecall: 0.8687265278251963\n",
      "\tF1 score: 0.8896075517874312\n"
     ]
    },
    {
     "data": {
      "image/png": "[encoded data removed]",
      "text/plain": [
       "<Figure size 432x288 with 1 Axes>"
      ]
     },
     "metadata": {
      "needs_background": "light"
     },
     "output_type": "display_data"
    },
    {
     "data": {
      "image/png": "[encoded data removed]",
      "text/plain": [
       "<Figure size 432x288 with 2 Axes>"
      ]
     },
     "metadata": {
      "needs_background": "light"
     },
     "output_type": "display_data"
    }
   ],
   "source": [
    "from sklearn.neighbors import KNeighborsClassifier\n",
    "\n",
    "# KNN model object \n",
    "model = KNeighborsClassifier(n_neighbors = 30)\n",
    "\n",
    "# training the KNN model\n",
    "model.fit(X_train, y_train)\n",
    "\n",
    "# Analyzing Model on Training Data\n",
    "print(\"\\nKNN on Training Data\")\n",
    "binary_classifier_model_analysis_print(X_train.to_numpy(), y_train.to_numpy(), model)\n",
    "\n",
    "# Analyzing Model on Testing Data\n",
    "print(\"\\nKNN on Testing Data\")\n",
    "binary_classifier_model_analysis_print(X_test.to_numpy(), y_test.to_numpy(), model)"
   ]
  },
  {
   "cell_type": "markdown",
   "id": "f992b72d",
   "metadata": {},
   "source": [
    "### Logistic Regression Model"
   ]
  },
  {
   "cell_type": "code",
   "execution_count": 31,
   "id": "1c757517",
   "metadata": {},
   "outputs": [
    {
     "name": "stdout",
     "output_type": "stream",
     "text": [
      "\n",
      "Logistic Regression on Training Data\n",
      "\tAccuracy: 0.9539393579425652\n",
      "\tError: 0.046060642057434764\n",
      "\tPrecision: 0.9623173397767806\n",
      "\tRecall: 0.9491573511887874\n",
      "\tF1 score: 0.9556920439937152\n"
     ]
    },
    {
     "data": {
      "image/png": "[encoded data removed]",
      "text/plain": [
       "<Figure size 432x288 with 1 Axes>"
      ]
     },
     "metadata": {
      "needs_background": "light"
     },
     "output_type": "display_data"
    },
    {
     "data": {
      "image/png": "[encoded data removed]",
      "text/plain": [
       "<Figure size 432x288 with 2 Axes>"
      ]
     },
     "metadata": {
      "needs_background": "light"
     },
     "output_type": "display_data"
    },
    {
     "name": "stdout",
     "output_type": "stream",
     "text": [
      "\n",
      "Logistic Regression on Testing Data\n",
      "\tAccuracy: 0.9355902004454343\n",
      "\tError: 0.06440979955456572\n",
      "\tPrecision: 0.9438202247191011\n",
      "\tRecall: 0.9320587231136906\n",
      "\tF1 score: 0.9379026024220561\n"
     ]
    },
    {
     "data": {
      "image/png": "[encoded data removed]",
      "text/plain": [
       "<Figure size 432x288 with 1 Axes>"
      ]
     },
     "metadata": {
      "needs_background": "light"
     },
     "output_type": "display_data"
    },
    {
     "data": {
      "image/png": "[encoded data removed]",
      "text/plain": [
       "<Figure size 432x288 with 2 Axes>"
      ]
     },
     "metadata": {
      "needs_background": "light"
     },
     "output_type": "display_data"
    }
   ],
   "source": [
    "from sklearn.linear_model import LogisticRegression\n",
    "\n",
    "# Logistic Regression model object \n",
    "model = LogisticRegression(random_state=0)\n",
    "\n",
    "# training the NB model\n",
    "model.fit(X_train, y_train)\n",
    "\n",
    "# Analyzing Model on Training Data\n",
    "print(\"\\nLogistic Regression on Training Data\")\n",
    "binary_classifier_model_analysis_print(X_train.to_numpy(), y_train.to_numpy(), model)\n",
    "\n",
    "# Analyzing Model on Testing Data\n",
    "print(\"\\nLogistic Regression on Testing Data\")\n",
    "binary_classifier_model_analysis_print(X_test.to_numpy(), y_test.to_numpy(), model)"
   ]
  },
  {
   "cell_type": "markdown",
   "id": "85d41268",
   "metadata": {},
   "source": [
    "### Decision Tree Model (using gini index) "
   ]
  },
  {
   "cell_type": "code",
   "execution_count": 32,
   "id": "3c61ab12",
   "metadata": {},
   "outputs": [
    {
     "name": "stdout",
     "output_type": "stream",
     "text": [
      "\n",
      "Decision Tree (Gini Index) on Training Data\n",
      "\tAccuracy: 1.0\n",
      "\tError: 0.0\n",
      "\tPrecision: 1.0\n",
      "\tRecall: 1.0\n",
      "\tF1 score: 1.0\n"
     ]
    },
    {
     "data": {
      "image/png": "[encoded data removed]",
      "text/plain": [
       "<Figure size 432x288 with 1 Axes>"
      ]
     },
     "metadata": {
      "needs_background": "light"
     },
     "output_type": "display_data"
    },
    {
     "data": {
      "image/png": "[encoded data removed]",
      "text/plain": [
       "<Figure size 432x288 with 2 Axes>"
      ]
     },
     "metadata": {
      "needs_background": "light"
     },
     "output_type": "display_data"
    },
    {
     "name": "stdout",
     "output_type": "stream",
     "text": [
      "\n",
      "Decision Tree (Gini Index) on Testing Data\n",
      "\tAccuracy: 0.8791982182628062\n",
      "\tError: 0.1208017817371938\n",
      "\tPrecision: 0.8808798646362098\n",
      "\tRecall: 0.8886992147490611\n",
      "\tF1 score: 0.8847722637661455\n"
     ]
    },
    {
     "data": {
      "image/png": "[encoded data removed]",
      "text/plain": [
       "<Figure size 432x288 with 1 Axes>"
      ]
     },
     "metadata": {
      "needs_background": "light"
     },
     "output_type": "display_data"
    },
    {
     "data": {
      "image/png": "[encoded data removed]",
      "text/plain": [
       "<Figure size 432x288 with 2 Axes>"
      ]
     },
     "metadata": {
      "needs_background": "light"
     },
     "output_type": "display_data"
    }
   ],
   "source": [
    "from sklearn.tree import DecisionTreeClassifier\n",
    "\n",
    "# DT model object \n",
    "model = DecisionTreeClassifier(random_state=0)\n",
    "\n",
    "# training the DT model\n",
    "model.fit(X_train, y_train)\n",
    "\n",
    "# Analyzing Model on Training Data\n",
    "print(\"\\nDecision Tree (Gini Index) on Training Data\")\n",
    "binary_classifier_model_analysis_print(X_train.to_numpy(), y_train.to_numpy(), model)\n",
    "\n",
    "# Analyzing Model on Testing Data\n",
    "print(\"\\nDecision Tree (Gini Index) on Testing Data\")\n",
    "binary_classifier_model_analysis_print(X_test.to_numpy(), y_test.to_numpy(), model)\n"
   ]
  },
  {
   "cell_type": "markdown",
   "id": "0cb03643",
   "metadata": {},
   "source": [
    "### Decision Tree Model (using IG) "
   ]
  },
  {
   "cell_type": "code",
   "execution_count": 33,
   "id": "17b5f55d",
   "metadata": {},
   "outputs": [
    {
     "name": "stdout",
     "output_type": "stream",
     "text": [
      "\n",
      "Decision Tree (IG) on Training Data\n",
      "\tAccuracy: 1.0\n",
      "\tError: 0.0\n",
      "\tPrecision: 1.0\n",
      "\tRecall: 1.0\n",
      "\tF1 score: 1.0\n"
     ]
    },
    {
     "data": {
      "image/png": "[encoded data removed]",
      "text/plain": [
       "<Figure size 432x288 with 1 Axes>"
      ]
     },
     "metadata": {
      "needs_background": "light"
     },
     "output_type": "display_data"
    },
    {
     "data": {
      "image/png": "[encoded data removed]",
      "text/plain": [
       "<Figure size 432x288 with 2 Axes>"
      ]
     },
     "metadata": {
      "needs_background": "light"
     },
     "output_type": "display_data"
    },
    {
     "name": "stdout",
     "output_type": "stream",
     "text": [
      "\n",
      "Decision Tree (IG) on Testing Data\n",
      "\tAccuracy: 0.8732293986636971\n",
      "\tError: 0.1267706013363029\n",
      "\tPrecision: 0.874894336432798\n",
      "\tRecall: 0.8834073062478661\n",
      "\tF1 score: 0.8791302131996942\n"
     ]
    },
    {
     "data": {
      "image/png": "[encoded data removed]",
      "text/plain": [
       "<Figure size 432x288 with 1 Axes>"
      ]
     },
     "metadata": {
      "needs_background": "light"
     },
     "output_type": "display_data"
    },
    {
     "data": {
      "image/png": "[encoded data removed]",
      "text/plain": [
       "<Figure size 432x288 with 2 Axes>"
      ]
     },
     "metadata": {
      "needs_background": "light"
     },
     "output_type": "display_data"
    }
   ],
   "source": [
    "from sklearn.tree import DecisionTreeClassifier\n",
    "\n",
    "# DT model object \n",
    "model = DecisionTreeClassifier(criterion = \"entropy\", random_state=0)\n",
    "\n",
    "# training the DT model\n",
    "model.fit(X_train, y_train)\n",
    "\n",
    "# Analyzing Model on Training Data\n",
    "print(\"\\nDecision Tree (IG) on Training Data\")\n",
    "binary_classifier_model_analysis_print(X_train.to_numpy(), y_train.to_numpy(), model)\n",
    "\n",
    "# Analyzing Model on Testing Data\n",
    "print(\"\\nDecision Tree (IG) on Testing Data\")\n",
    "binary_classifier_model_analysis_print(X_test.to_numpy(), y_test.to_numpy(), model)\n"
   ]
  },
  {
   "cell_type": "markdown",
   "id": "c3a17fd2",
   "metadata": {},
   "source": [
    "### Random Forest Model (Bagging)"
   ]
  },
  {
   "cell_type": "code",
   "execution_count": 42,
   "id": "45ad6a17",
   "metadata": {},
   "outputs": [
    {
     "name": "stdout",
     "output_type": "stream",
     "text": [
      "\n",
      "Random Forest on Training Data\n",
      "\tAccuracy: 1.0\n",
      "\tError: 0.0\n",
      "\tPrecision: 1.0\n",
      "\tRecall: 1.0\n",
      "\tF1 score: 1.0\n"
     ]
    },
    {
     "data": {
      "image/png": "[encoded data removed]",
      "text/plain": [
       "<Figure size 432x288 with 1 Axes>"
      ]
     },
     "metadata": {
      "needs_background": "light"
     },
     "output_type": "display_data"
    },
    {
     "data": {
      "image/png": "[encoded data removed]",
      "text/plain": [
       "<Figure size 432x288 with 2 Axes>"
      ]
     },
     "metadata": {
      "needs_background": "light"
     },
     "output_type": "display_data"
    },
    {
     "name": "stdout",
     "output_type": "stream",
     "text": [
      "\n",
      "Random Forest on Testing Data\n",
      "\tAccuracy: 0.934075723830735\n",
      "\tError: 0.065924276169265\n",
      "\tPrecision: 0.9542066027689031\n",
      "\tRecall: 0.9177193581427108\n",
      "\tF1 score: 0.9356073790462931\n"
     ]
    },
    {
     "data": {
      "image/png": "[encoded data removed]",
      "text/plain": [
       "<Figure size 432x288 with 1 Axes>"
      ]
     },
     "metadata": {
      "needs_background": "light"
     },
     "output_type": "display_data"
    },
    {
     "data": {
      "image/png": "[encoded data removed]",
      "text/plain": [
       "<Figure size 432x288 with 2 Axes>"
      ]
     },
     "metadata": {
      "needs_background": "light"
     },
     "output_type": "display_data"
    }
   ],
   "source": [
    "from sklearn.ensemble import RandomForestClassifier\n",
    "\n",
    "# Random Forest model object \n",
    "model = RandomForestClassifier(criterion=\"gini\", random_state=5)\n",
    "\n",
    "# training the Random Forest model\n",
    "model.fit(X_train, y_train)\n",
    "\n",
    "# Analyzing Model on Training Data\n",
    "print(\"\\nRandom Forest on Training Data\")\n",
    "binary_classifier_model_analysis_print(X_train.to_numpy(), y_train.to_numpy(), model)\n",
    "\n",
    "# Analyzing Model on Testing Data\n",
    "print(\"\\nRandom Forest on Testing Data\")\n",
    "binary_classifier_model_analysis_print(X_test.to_numpy(), y_test.to_numpy(), model)"
   ]
  },
  {
   "cell_type": "code",
   "execution_count": 45,
   "id": "c5df67a6",
   "metadata": {
    "scrolled": true
   },
   "outputs": [
    {
     "data": {
      "text/html": [
       "<div>\n",
       "<style scoped>\n",
       "    .dataframe tbody tr th:only-of-type {\n",
       "        vertical-align: middle;\n",
       "    }\n",
       "\n",
       "    .dataframe tbody tr th {\n",
       "        vertical-align: top;\n",
       "    }\n",
       "\n",
       "    .dataframe thead th {\n",
       "        text-align: right;\n",
       "    }\n",
       "</style>\n",
       "<table border=\"1\" class=\"dataframe\">\n",
       "  <thead>\n",
       "    <tr style=\"text-align: right;\">\n",
       "      <th></th>\n",
       "      <th>feature</th>\n",
       "      <th>importance</th>\n",
       "    </tr>\n",
       "  </thead>\n",
       "  <tbody>\n",
       "    <tr>\n",
       "      <th>3904</th>\n",
       "      <td>text: vehicle</td>\n",
       "      <td>0.062308</td>\n",
       "    </tr>\n",
       "    <tr>\n",
       "      <th>1904</th>\n",
       "      <td>title: video</td>\n",
       "      <td>0.059252</td>\n",
       "    </tr>\n",
       "    <tr>\n",
       "      <th>3</th>\n",
       "      <td>title sa comp</td>\n",
       "      <td>0.025180</td>\n",
       "    </tr>\n",
       "    <tr>\n",
       "      <th>6</th>\n",
       "      <td>text sa neu</td>\n",
       "      <td>0.021194</td>\n",
       "    </tr>\n",
       "    <tr>\n",
       "      <th>2838</th>\n",
       "      <td>text: higher</td>\n",
       "      <td>0.015865</td>\n",
       "    </tr>\n",
       "    <tr>\n",
       "      <th>3576</th>\n",
       "      <td>text: russian</td>\n",
       "      <td>0.015847</td>\n",
       "    </tr>\n",
       "    <tr>\n",
       "      <th>4</th>\n",
       "      <td>text sa neg</td>\n",
       "      <td>0.015111</td>\n",
       "    </tr>\n",
       "    <tr>\n",
       "      <th>0</th>\n",
       "      <td>title sa neg</td>\n",
       "      <td>0.014692</td>\n",
       "    </tr>\n",
       "    <tr>\n",
       "      <th>1576</th>\n",
       "      <td>title: says</td>\n",
       "      <td>0.014518</td>\n",
       "    </tr>\n",
       "    <tr>\n",
       "      <th>2</th>\n",
       "      <td>title sa neu</td>\n",
       "      <td>0.014181</td>\n",
       "    </tr>\n",
       "    <tr>\n",
       "      <th>838</th>\n",
       "      <td>title: hillary</td>\n",
       "      <td>0.013598</td>\n",
       "    </tr>\n",
       "    <tr>\n",
       "      <th>3940</th>\n",
       "      <td>text: warning</td>\n",
       "      <td>0.011733</td>\n",
       "    </tr>\n",
       "    <tr>\n",
       "      <th>7</th>\n",
       "      <td>text sa comp</td>\n",
       "      <td>0.010907</td>\n",
       "    </tr>\n",
       "    <tr>\n",
       "      <th>5</th>\n",
       "      <td>text sa pos</td>\n",
       "      <td>0.010749</td>\n",
       "    </tr>\n",
       "    <tr>\n",
       "      <th>3853</th>\n",
       "      <td>text: town</td>\n",
       "      <td>0.010604</td>\n",
       "    </tr>\n",
       "    <tr>\n",
       "      <th>1940</th>\n",
       "      <td>title: watch</td>\n",
       "      <td>0.010085</td>\n",
       "    </tr>\n",
       "    <tr>\n",
       "      <th>1853</th>\n",
       "      <td>title: trump</td>\n",
       "      <td>0.009928</td>\n",
       "    </tr>\n",
       "    <tr>\n",
       "      <th>1258</th>\n",
       "      <td>title: obama</td>\n",
       "      <td>0.009186</td>\n",
       "    </tr>\n",
       "    <tr>\n",
       "      <th>1</th>\n",
       "      <td>title sa pos</td>\n",
       "      <td>0.007946</td>\n",
       "    </tr>\n",
       "    <tr>\n",
       "      <th>3258</th>\n",
       "      <td>text: opponents</td>\n",
       "      <td>0.007766</td>\n",
       "    </tr>\n",
       "    <tr>\n",
       "      <th>255</th>\n",
       "      <td>title: breaking</td>\n",
       "      <td>0.006073</td>\n",
       "    </tr>\n",
       "    <tr>\n",
       "      <th>771</th>\n",
       "      <td>title: gop</td>\n",
       "      <td>0.006062</td>\n",
       "    </tr>\n",
       "    <tr>\n",
       "      <th>2255</th>\n",
       "      <td>text: biggest</td>\n",
       "      <td>0.005916</td>\n",
       "    </tr>\n",
       "    <tr>\n",
       "      <th>2771</th>\n",
       "      <td>text: gets</td>\n",
       "      <td>0.005351</td>\n",
       "    </tr>\n",
       "    <tr>\n",
       "      <th>553</th>\n",
       "      <td>title: donald</td>\n",
       "      <td>0.004060</td>\n",
       "    </tr>\n",
       "    <tr>\n",
       "      <th>1886</th>\n",
       "      <td>title: us</td>\n",
       "      <td>0.004046</td>\n",
       "    </tr>\n",
       "    <tr>\n",
       "      <th>1246</th>\n",
       "      <td>title: north</td>\n",
       "      <td>0.003893</td>\n",
       "    </tr>\n",
       "    <tr>\n",
       "      <th>2859</th>\n",
       "      <td>text: hours</td>\n",
       "      <td>0.003624</td>\n",
       "    </tr>\n",
       "    <tr>\n",
       "      <th>859</th>\n",
       "      <td>title: house</td>\n",
       "      <td>0.003508</td>\n",
       "    </tr>\n",
       "    <tr>\n",
       "      <th>222</th>\n",
       "      <td>title: black</td>\n",
       "      <td>0.003359</td>\n",
       "    </tr>\n",
       "  </tbody>\n",
       "</table>\n",
       "</div>"
      ],
      "text/plain": [
       "              feature  importance\n",
       "3904    text: vehicle    0.062308\n",
       "1904     title: video    0.059252\n",
       "3       title sa comp    0.025180\n",
       "6         text sa neu    0.021194\n",
       "2838     text: higher    0.015865\n",
       "3576    text: russian    0.015847\n",
       "4         text sa neg    0.015111\n",
       "0        title sa neg    0.014692\n",
       "1576      title: says    0.014518\n",
       "2        title sa neu    0.014181\n",
       "838    title: hillary    0.013598\n",
       "3940    text: warning    0.011733\n",
       "7        text sa comp    0.010907\n",
       "5         text sa pos    0.010749\n",
       "3853       text: town    0.010604\n",
       "1940     title: watch    0.010085\n",
       "1853     title: trump    0.009928\n",
       "1258     title: obama    0.009186\n",
       "1        title sa pos    0.007946\n",
       "3258  text: opponents    0.007766\n",
       "255   title: breaking    0.006073\n",
       "771        title: gop    0.006062\n",
       "2255    text: biggest    0.005916\n",
       "2771       text: gets    0.005351\n",
       "553     title: donald    0.004060\n",
       "1886        title: us    0.004046\n",
       "1246     title: north    0.003893\n",
       "2859      text: hours    0.003624\n",
       "859      title: house    0.003508\n",
       "222      title: black    0.003359"
      ]
     },
     "execution_count": 45,
     "metadata": {},
     "output_type": "execute_result"
    }
   ],
   "source": [
    "# creating a dataframe for feature importance values\n",
    "fi_df = pd.DataFrame()\n",
    "\n",
    "# getting a list of feature importance values\n",
    "feature_importance = list(model.feature_importances_)\n",
    "\n",
    "# list of feature names \n",
    "feature_names = list(model.feature_names_in_)\n",
    "\n",
    "# adding to dataframe \n",
    "fi_df[\"feature\"] = feature_names\n",
    "fi_df[\"importance\"] = feature_importance\n",
    "\n",
    "\n",
    "# sorting features by feature importance\n",
    "fi_df = fi_df.sort_values(by=\"importance\", ascending=False)\n",
    "\n",
    "# top 30 most important features\n",
    "fi_df.iloc[:30]"
   ]
  },
  {
   "cell_type": "markdown",
   "id": "444b3b30",
   "metadata": {},
   "source": [
    "### AdaBoost Model"
   ]
  },
  {
   "cell_type": "code",
   "execution_count": 36,
   "id": "00e44569",
   "metadata": {},
   "outputs": [
    {
     "name": "stdout",
     "output_type": "stream",
     "text": [
      "\n",
      "AdaBoost on Training Data\n",
      "\tAccuracy: 0.8818935051821934\n",
      "\tError: 0.11810649481780655\n",
      "\tPrecision: 0.919257711687354\n",
      "\tRecall: 0.8488906542586393\n",
      "\tF1 score: 0.8826739829483435\n"
     ]
    },
    {
     "data": {
      "image/png": "[encoded data removed]",
      "text/plain": [
       "<Figure size 432x288 with 1 Axes>"
      ]
     },
     "metadata": {
      "needs_background": "light"
     },
     "output_type": "display_data"
    },
    {
     "data": {
      "image/png": "[encoded data removed]",
      "text/plain": [
       "<Figure size 432x288 with 2 Axes>"
      ]
     },
     "metadata": {
      "needs_background": "light"
     },
     "output_type": "display_data"
    },
    {
     "name": "stdout",
     "output_type": "stream",
     "text": [
      "\n",
      "AdaBoost on Testing Data\n",
      "\tAccuracy: 0.8770601336302896\n",
      "\tError: 0.12293986636971044\n",
      "\tPrecision: 0.9150908416759362\n",
      "\tRecall: 0.8426083987709115\n",
      "\tF1 score: 0.8773551368645572\n"
     ]
    },
    {
     "data": {
      "image/png": "[encoded data removed]",
      "text/plain": [
       "<Figure size 432x288 with 1 Axes>"
      ]
     },
     "metadata": {
      "needs_background": "light"
     },
     "output_type": "display_data"
    },
    {
     "data": {
      "image/png": "[encoded data removed]",
      "text/plain": [
       "<Figure size 432x288 with 2 Axes>"
      ]
     },
     "metadata": {
      "needs_background": "light"
     },
     "output_type": "display_data"
    }
   ],
   "source": [
    "from sklearn.ensemble import AdaBoostClassifier\n",
    "\n",
    "# AdaBoost model object \n",
    "model = AdaBoostClassifier(n_estimators= 100, random_state=0)\n",
    "\n",
    "# training the AdaBoost model\n",
    "model.fit(X_train, y_train)\n",
    "\n",
    "# Analyzing Model on Training Data\n",
    "print(\"\\nAdaBoost on Training Data\")\n",
    "binary_classifier_model_analysis_print(X_train.to_numpy(), y_train.to_numpy(), model)\n",
    "\n",
    "# Analyzing Model on Testing Data\n",
    "print(\"\\nAdaBoost on Testing Data\")\n",
    "binary_classifier_model_analysis_print(X_test.to_numpy(), y_test.to_numpy(), model)"
   ]
  },
  {
   "cell_type": "markdown",
   "id": "0d9663be",
   "metadata": {},
   "source": [
    "### MLP Classifier Model"
   ]
  },
  {
   "cell_type": "code",
   "execution_count": 37,
   "id": "86712fda",
   "metadata": {},
   "outputs": [
    {
     "name": "stdout",
     "output_type": "stream",
     "text": [
      "\n",
      "MLP Classifier on Training Data\n",
      "\tAccuracy: 0.9999109078490185\n",
      "\tError: 8.90921509815179e-05\n",
      "\tPrecision: 0.9999432527522415\n",
      "\tRecall: 0.9998865119446179\n",
      "\tF1 score: 0.9999148815434814\n"
     ]
    },
    {
     "data": {
      "image/png": "[encoded data removed]",
      "text/plain": [
       "<Figure size 432x288 with 1 Axes>"
      ]
     },
     "metadata": {
      "needs_background": "light"
     },
     "output_type": "display_data"
    },
    {
     "data": {
      "image/png": "[encoded data removed]",
      "text/plain": [
       "<Figure size 432x288 with 2 Axes>"
      ]
     },
     "metadata": {
      "needs_background": "light"
     },
     "output_type": "display_data"
    },
    {
     "name": "stdout",
     "output_type": "stream",
     "text": [
      "\n",
      "MLP Classifier on Testing Data\n",
      "\tAccuracy: 0.9417371937639198\n",
      "\tError: 0.058262806236080156\n",
      "\tPrecision: 0.9419157608695652\n",
      "\tRecall: 0.9467395015363606\n",
      "\tF1 score: 0.9443214711391111\n"
     ]
    },
    {
     "data": {
      "image/png": "[encoded data removed]",
      "text/plain": [
       "<Figure size 432x288 with 1 Axes>"
      ]
     },
     "metadata": {
      "needs_background": "light"
     },
     "output_type": "display_data"
    },
    {
     "data": {
      "image/png": "[encoded data removed]",
      "text/plain": [
       "<Figure size 432x288 with 2 Axes>"
      ]
     },
     "metadata": {
      "needs_background": "light"
     },
     "output_type": "display_data"
    }
   ],
   "source": [
    "from sklearn.neural_network import MLPClassifier\n",
    "\n",
    "# MLP Classifier model object \n",
    "model = MLPClassifier(random_state=0)\n",
    "\n",
    "# training the MLP Classifier model\n",
    "model.fit(X_train, y_train)\n",
    "\n",
    "# Analyzing Model on Training Data\n",
    "print(\"\\nMLP Classifier on Training Data\")\n",
    "binary_classifier_model_analysis_print(X_train.to_numpy(), y_train.to_numpy(), model)\n",
    "\n",
    "# Analyzing Model on Testing Data\n",
    "print(\"\\nMLP Classifier on Testing Data\")\n",
    "binary_classifier_model_analysis_print(X_test.to_numpy(), y_test.to_numpy(), model)"
   ]
  }
 ],
 "metadata": {
  "kernelspec": {
   "display_name": "Python 3 (ipykernel)",
   "language": "python",
   "name": "python3"
  },
  "language_info": {
   "codemirror_mode": {
    "name": "ipython",
    "version": 3
   },
   "file_extension": ".py",
   "mimetype": "text/x-python",
   "name": "python",
   "nbconvert_exporter": "python",
   "pygments_lexer": "ipython3",
   "version": "3.10.0"
  }
 },
 "nbformat": 4,
 "nbformat_minor": 5
}
